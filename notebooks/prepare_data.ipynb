{
 "cells": [
  {
   "cell_type": "code",
   "execution_count": 1,
   "id": "experimental-junior",
   "metadata": {},
   "outputs": [],
   "source": [
    "import sys\n",
    "sys.path.insert(1, '/home/genvekt/Dev/DL_Assignment_3/RU_EN_Translation/')\n",
    "from collections import Counter"
   ]
  },
  {
   "cell_type": "code",
   "execution_count": 2,
   "id": "organic-thong",
   "metadata": {
    "scrolled": true
   },
   "outputs": [
    {
     "name": "stderr",
     "output_type": "stream",
     "text": [
      "[nltk_data] Downloading package punkt to /home/genvekt/nltk_data...\n",
      "[nltk_data]   Package punkt is already up-to-date!\n"
     ]
    }
   ],
   "source": [
    "from data_loaders.vocabulary import Vocabulary\n",
    "from data_loaders.batch import Batches\n",
    "from utils import text_to_pickle, train_val_split\n",
    "from torch import nn\n",
    "from data_loaders.dataset import TextDataset\n",
    "import torch \n",
    "import torch.nn.functional as F\n",
    "import copy\n",
    "import time\n",
    "import math\n",
    "from nltk.tokenize import word_tokenize\n",
    "import pickle\n",
    "from tqdm import tqdm"
   ]
  },
  {
   "cell_type": "markdown",
   "id": "thermal-lying",
   "metadata": {},
   "source": [
    "# Take first 200 000 sentences in the dataset"
   ]
  },
  {
   "cell_type": "code",
   "execution_count": 3,
   "id": "attended-madness",
   "metadata": {},
   "outputs": [],
   "source": [
    "def get_subset(input_file, output_file, amount):\n",
    "    with open(output_file, \"w\") as out_f:\n",
    "        with open (input_file, \"r\") as f:\n",
    "            for line in f:\n",
    "                out_f.write(line)\n",
    "                amount -= 1\n",
    "                if amount <=0:\n",
    "                    break"
   ]
  },
  {
   "cell_type": "code",
   "execution_count": 8,
   "id": "opposed-tactics",
   "metadata": {},
   "outputs": [],
   "source": [
    "get_subset(\"../data/corpus.en_ru.1m.ru\", \"../data/corpus.en_ru.small.ru\", 200000)"
   ]
  },
  {
   "cell_type": "code",
   "execution_count": 9,
   "id": "cosmetic-slope",
   "metadata": {},
   "outputs": [],
   "source": [
    "get_subset(\"../data/corpus.en_ru.1m.en\", \"../data/corpus.en_ru.small.en\", 200000)"
   ]
  },
  {
   "cell_type": "code",
   "execution_count": 10,
   "id": "junior-reach",
   "metadata": {},
   "outputs": [
    {
     "name": "stderr",
     "output_type": "stream",
     "text": [
      "100%|██████████| 200000/200000 [00:26<00:00, 7650.05it/s]\n",
      "100%|██████████| 200000/200000 [00:30<00:00, 6602.04it/s]\n"
     ]
    }
   ],
   "source": [
    "text_to_pickle(\"../data/corpus.en_ru.small.en\", \"../data/corpus.en_ru.small.en_tokens.p\", language=\"english\")\n",
    "text_to_pickle(\"../data/corpus.en_ru.small.ru\", \"../data/corpus.en_ru.small.ru_tokens.p\", language=\"russian\")"
   ]
  },
  {
   "cell_type": "markdown",
   "id": "plastic-possession",
   "metadata": {},
   "source": [
    "## Parse Russian Vocabulary"
   ]
  },
  {
   "cell_type": "code",
   "execution_count": 12,
   "id": "impossible-dubai",
   "metadata": {},
   "outputs": [
    {
     "name": "stderr",
     "output_type": "stream",
     "text": [
      "100%|██████████| 200000/200000 [00:31<00:00, 6340.87it/s]\n"
     ]
    }
   ],
   "source": [
    "vocab = Vocabulary()\n",
    "vocab.parse_file(\"../data/corpus.en_ru.small.ru\", language='russian')\n",
    "vocab.dump(\"../data/vocabularies/ru_small.voc\")"
   ]
  },
  {
   "cell_type": "markdown",
   "id": "former-forum",
   "metadata": {},
   "source": [
    "## Parse English Vocablary"
   ]
  },
  {
   "cell_type": "code",
   "execution_count": 13,
   "id": "municipal-spanish",
   "metadata": {},
   "outputs": [
    {
     "name": "stderr",
     "output_type": "stream",
     "text": [
      "100%|██████████| 200000/200000 [00:26<00:00, 7434.39it/s]\n"
     ]
    }
   ],
   "source": [
    "vocab = Vocabulary()\n",
    "vocab.parse_file(\"../data/corpus.en_ru.small.en\", language='english')\n",
    "vocab.dump(\"../data/vocabularies/en_small.voc\")"
   ]
  },
  {
   "cell_type": "markdown",
   "id": "educated-treasury",
   "metadata": {},
   "source": [
    "# Parse texts to tokens"
   ]
  },
  {
   "cell_type": "code",
   "execution_count": 3,
   "id": "under-chocolate",
   "metadata": {
    "scrolled": true
   },
   "outputs": [
    {
     "name": "stderr",
     "output_type": "stream",
     "text": [
      "100%|██████████| 1000000/1000000 [02:15<00:00, 7356.39it/s]\n"
     ]
    }
   ],
   "source": [
    "text_to_pickle(\"../data/corpus.en_ru.1m.en\", \"../data/corpus.en_ru.1m.en_tokens.p\", language=\"english\")"
   ]
  },
  {
   "cell_type": "code",
   "execution_count": 4,
   "id": "swedish-navigation",
   "metadata": {
    "scrolled": true
   },
   "outputs": [
    {
     "name": "stderr",
     "output_type": "stream",
     "text": [
      "100%|██████████| 1000000/1000000 [02:35<00:00, 6415.40it/s]\n"
     ]
    }
   ],
   "source": [
    "text_to_pickle(\"../data/corpus.en_ru.1m.ru\", \"../data/corpus.en_ru.1m.ru_tokens.p\", language=\"russian\")"
   ]
  },
  {
   "cell_type": "markdown",
   "id": "virgin-boulder",
   "metadata": {},
   "source": [
    "# Create bigram matrice for target vocabulary, will use it in test"
   ]
  },
  {
   "cell_type": "code",
   "execution_count": 102,
   "id": "traditional-ensemble",
   "metadata": {},
   "outputs": [],
   "source": [
    "full_ds = TextDataset(ru_tokens=\"../data/corpus.en_ru.small.ru_tokens.p\",\n",
    "                 ru_voc=\"../data/vocabularies/ru_small.voc\",\n",
    "                 en_tokens=\"../data/corpus.en_ru.small.en_tokens.p\",\n",
    "                 en_voc=\"../data/vocabularies/en_small.voc\", \n",
    "                 random_sub=0.00)"
   ]
  },
  {
   "cell_type": "code",
   "execution_count": 109,
   "id": "russian-workshop",
   "metadata": {},
   "outputs": [],
   "source": [
    "from tqdm  import tqdm"
   ]
  },
  {
   "cell_type": "code",
   "execution_count": 120,
   "id": "appointed-international",
   "metadata": {},
   "outputs": [
    {
     "name": "stderr",
     "output_type": "stream",
     "text": [
      "100%|██████████| 200000/200000 [00:03<00:00, 50877.15it/s]\n"
     ]
    }
   ],
   "source": [
    "EN_V = len(full_ds.en_voc)\n",
    "bigram = {}\n",
    "for sent in tqdm(full_ds.en):\n",
    "    full_sent = sent + [\"<EOS>\"]\n",
    "    for i in range(len(full_sent)-1):\n",
    "        t = full_sent[i] \n",
    "        t_next = full_sent[i+1]\n",
    "        t_id = full_ds.en_voc.word_2_idx[t]\n",
    "        t_next_id = full_ds.en_voc.word_2_idx[t_next]\n",
    "        if not t_id in bigram:\n",
    "            bigram[t_id] = {}\n",
    "        if not t_next_id in bigram[t_id]:\n",
    "            bigram[t_id][t_next_id] = 1\n",
    "        else:\n",
    "            bigram[t_id][t_next_id] += 1"
   ]
  },
  {
   "cell_type": "markdown",
   "id": "harmful-better",
   "metadata": {},
   "source": [
    "# Convert frequences into probabilities"
   ]
  },
  {
   "cell_type": "code",
   "execution_count": 121,
   "id": "ecological-content",
   "metadata": {},
   "outputs": [],
   "source": [
    "for t1 in bigram:\n",
    "    total_sum = 0\n",
    "    for t2 in bigram[t1]:\n",
    "        total_sum += bigram[t1][t2]\n",
    "    for t2 in bigram[t1]:\n",
    "        bigram[t1][t2] /= total_sum"
   ]
  },
  {
   "cell_type": "markdown",
   "id": "dense-bahrain",
   "metadata": {},
   "source": [
    "# Save bigram"
   ]
  },
  {
   "cell_type": "code",
   "execution_count": 127,
   "id": "nuclear-nelson",
   "metadata": {},
   "outputs": [],
   "source": [
    "with open(\"../data/en_biram_small.p\", \"wb\") as f:\n",
    "    pickle.dump(bigram, f)"
   ]
  },
  {
   "cell_type": "markdown",
   "id": "physical-relation",
   "metadata": {},
   "source": [
    "# Split corpus into 80% train and 20% test splits"
   ]
  },
  {
   "cell_type": "code",
   "execution_count": 11,
   "id": "antique-prague",
   "metadata": {},
   "outputs": [],
   "source": [
    "train_val_split(text_file1=\"../data/corpus.en_ru.small.ru_tokens.p\",\n",
    "                text_file2=\"../data/corpus.en_ru.small.en_tokens.p\",\n",
    "                train_file1=\"../data/corpus.en_ru.small.ru_tokens_train.p\",\n",
    "                train_file2=\"../data/corpus.en_ru.small.en_tokens_train.p\",\n",
    "                val_file1=\"../data/corpus.en_ru.small.ru_tokens_val.p\",\n",
    "                val_file2=\"../data/corpus.en_ru.small.en_tokens_val.p\")"
   ]
  },
  {
   "cell_type": "markdown",
   "id": "dried-breath",
   "metadata": {},
   "source": [
    "# Train transformer"
   ]
  },
  {
   "cell_type": "code",
   "execution_count": 3,
   "id": "statutory-lexington",
   "metadata": {},
   "outputs": [],
   "source": [
    "train_ds = TextDataset(ru_tokens=\"../data/corpus.en_ru.small.ru_tokens_train.p\",\n",
    "                 ru_voc=\"../data/vocabularies/ru_small.voc\",\n",
    "                 en_tokens=\"../data/corpus.en_ru.small.en_tokens_train.p\",\n",
    "                 en_voc=\"../data/vocabularies/en_small.voc\", \n",
    "                 random_sub=0.01)"
   ]
  },
  {
   "cell_type": "code",
   "execution_count": 4,
   "id": "technical-spider",
   "metadata": {},
   "outputs": [],
   "source": [
    "val_ds = TextDataset(ru_tokens=\"../data/corpus.en_ru.small.ru_tokens_val.p\",\n",
    "                 ru_voc=\"../data/vocabularies/ru_small.voc\",\n",
    "                 en_tokens=\"../data/corpus.en_ru.small.en_tokens_val.p\",\n",
    "                 en_voc=\"../data/vocabularies/en_small.voc\", \n",
    "                 random_sub=0.0)"
   ]
  },
  {
   "cell_type": "code",
   "execution_count": 5,
   "id": "grateful-trace",
   "metadata": {},
   "outputs": [],
   "source": [
    "batched_train_ds = Batches(train_ds, 16, train=True)"
   ]
  },
  {
   "cell_type": "code",
   "execution_count": 12,
   "id": "suited-chess",
   "metadata": {},
   "outputs": [],
   "source": [
    "batched_val_ds = Batches(train_ds, 16, train=True)"
   ]
  },
  {
   "cell_type": "code",
   "execution_count": 7,
   "id": "extreme-adapter",
   "metadata": {},
   "outputs": [],
   "source": [
    "import numpy as np\n",
    "from torch.autograd import Variable\n",
    "\n",
    "def nopeak_mask(size):\n",
    "    np_mask = np.triu(np.ones((1, size, size)), k=1).astype('uint8')\n",
    "    np_mask =  Variable(torch.from_numpy(np_mask) == 0)\n",
    "    return np_mask\n",
    "\n",
    "def get_masks(src_batch, src_pad, trg_batch=None, trg_pad=None):\n",
    "    src_msk = (src_batch != src_pad).unsqueeze(-2).long()\n",
    "    \n",
    "    if trg_batch is not None:\n",
    "        trg_msk = (trg_batch != trg_pad).unsqueeze(-2).bool()\n",
    "        trg_len = trg_batch.size(1)\n",
    "        np_msk = nopeak_mask(trg_len).type_as(trg_batch).bool()\n",
    "        trg_msk = (trg_msk & np_msk).long()\n",
    "    else:\n",
    "        trg_mask = None\n",
    "    return src_msk, trg_msk"
   ]
  },
  {
   "cell_type": "code",
   "execution_count": 8,
   "id": "noble-majority",
   "metadata": {},
   "outputs": [],
   "source": [
    "def importance_sampling(scores, top_m=10000, rand_n=10000):\n",
    "    \"\"\"\n",
    "    Computes sampled softmax function\n",
    "    \"\"\"\n",
    "    V = scores.shape[-1]       #  The target vocabular size \n",
    "    B = scores.shape[0]        # The batch size\n",
    "    \n",
    "    # Take top M words\n",
    "    x_m = scores[:, :,:top_m]\n",
    "    \n",
    "    # Randomly select N words from other V-M words\n",
    "    ids = (torch.randperm(V-top_m)+top_m)[:rand_n]\n",
    "    x_n = scores[:,:,ids]\n",
    "    \n",
    "    # Compute approximation of softmax\n",
    "    alpha = (V - top_m)/rand_n\n",
    "    Z = torch.sum(torch.exp(x_m),2) + alpha*torch.sum(torch.exp(x_n),2)\n",
    "    return torch.log(torch.exp(scores)/Z.unsqueeze(2).repeat(1,1,V))"
   ]
  },
  {
   "cell_type": "code",
   "execution_count": 9,
   "id": "catholic-duncan",
   "metadata": {},
   "outputs": [],
   "source": [
    "from model.model import Transformer"
   ]
  },
  {
   "cell_type": "code",
   "execution_count": 10,
   "id": "excited-grace",
   "metadata": {},
   "outputs": [],
   "source": [
    "d_model = 256\n",
    "heads = 8\n",
    "N = 4\n",
    "src_vocab = len(train_ds.ru_voc)\n",
    "trg_vocab = len(train_ds.en_voc)\n",
    "\n",
    "model = Transformer(src_vocab, trg_vocab, d_model, N, heads)\n",
    "for p in model.parameters():\n",
    "    if p.dim() > 1:\n",
    "        nn.init.xavier_uniform_(p)\n",
    "        \n",
    "optim = torch.optim.Adam(model.parameters(), lr=0.0001, betas=(0.9, 0.98), eps=1e-9)"
   ]
  },
  {
   "cell_type": "code",
   "execution_count": 26,
   "id": "amended-fight",
   "metadata": {
    "scrolled": true
   },
   "outputs": [
    {
     "name": "stdout",
     "output_type": "stream",
     "text": [
      "epoch 1, iter = 10, loss = 4.6770\n",
      "epoch 1, iter = 20, loss = 4.6450\n",
      "epoch 1, iter = 30, loss = 4.5972\n",
      "epoch 1, iter = 40, loss = 4.6452\n",
      "epoch 1, iter = 50, loss = 4.6282\n",
      "epoch 1, iter = 60, loss = 4.7003\n",
      "epoch 1, iter = 70, loss = 4.5950\n",
      "epoch 1, iter = 80, loss = 4.6205\n",
      "epoch 1, iter = 90, loss = 4.6056\n",
      "epoch 1, iter = 100, loss = 4.6566\n",
      "epoch 1, iter = 110, loss = 4.5939\n",
      "epoch 1, iter = 120, loss = 4.5942\n",
      "epoch 1, iter = 130, loss = 4.6553\n",
      "epoch 1, iter = 140, loss = 4.5543\n",
      "epoch 1, iter = 150, loss = 4.7331\n",
      "epoch 1, iter = 160, loss = 4.5873\n",
      "epoch 1, iter = 170, loss = 4.7067\n",
      "epoch 1, iter = 180, loss = 4.6487\n",
      "epoch 1, iter = 190, loss = 4.5904\n",
      "epoch 1, iter = 200, loss = 4.6456\n",
      "epoch 1, iter = 210, loss = 4.6629\n",
      "epoch 1, iter = 220, loss = 4.5853\n",
      "epoch 1, iter = 230, loss = 4.6667\n",
      "epoch 1, iter = 240, loss = 4.5974\n",
      "epoch 1, iter = 250, loss = 4.5265\n",
      "epoch 1, iter = 260, loss = 4.6458\n",
      "epoch 1, iter = 270, loss = 4.5425\n",
      "epoch 1, iter = 280, loss = 4.5309\n",
      "epoch 1, iter = 290, loss = 4.5532\n",
      "epoch 1, iter = 300, loss = 4.6086\n",
      "Val loss = 4.787\n"
     ]
    }
   ],
   "source": [
    "model.train()\n",
    "\n",
    "total_loss = 0\n",
    "criterion = nn.NLLLoss(ignore_index=batched_train_ds.pad_idx(is_source=False))\n",
    "for epoch in range(1):\n",
    "    for i, batch in enumerate(batched_train_ds.iterate()):\n",
    "        src, trg = batch\n",
    "\n",
    "        trg_input = trg[:, :-1]\n",
    "        targets = trg[:, 1:].contiguous().view(-1)\n",
    "\n",
    "        src_msk, trg_msk = get_masks(src, batched_train_ds.pad_idx(is_source=True),\n",
    "                                     trg_input, batched_train_ds.pad_idx(is_source=False))\n",
    "        \n",
    "        preds = model(src, trg_input, src_msk, trg_msk)\n",
    "        preds = importance_sampling(preds)\n",
    "\n",
    "        optim.zero_grad()\n",
    "\n",
    "        loss = criterion(preds.view(-1, preds.shape[-1]), targets)\n",
    "        \n",
    "        loss.backward()\n",
    "        optim.step()\n",
    "        total_loss += loss\n",
    "        \n",
    "        if (i + 1) % 10 == 0:\n",
    "            loss_avg = total_loss / 10\n",
    "            print(\"epoch %d, iter = %d, loss = %.4f\" % (epoch + 1, i + 1, loss_avg))\n",
    "            total_loss = 0\n",
    "            \n",
    "        if i > 300:\n",
    "            break\n",
    "    \n",
    "    # Validation\n",
    "    for i, batch in enumerate(batched_val_ds.iterate()):\n",
    "        src, trg = batch\n",
    "\n",
    "        trg_input = trg[:, :-1]\n",
    "        targets = trg[:, 1:].contiguous().view(-1)\n",
    "\n",
    "        src_msk, trg_msk = get_masks(src, batched_train_ds.pad_idx(is_source=True),\n",
    "                                        trg_input, batched_train_ds.pad_idx(is_source=False))\n",
    "        \n",
    "        with torch.no_grad():\n",
    "            preds = model(src, trg_input, src_msk, trg_msk)\n",
    "        \n",
    "        preds = importance_sampling(preds)\n",
    "        loss = criterion(preds.view(-1, preds.shape[-1]), targets)\n",
    "        \n",
    "        total_loss += loss\n",
    "        if i > 100:\n",
    "            print(\"Val loss = %.3f\" % (total_loss/100))\n",
    "            total_loss = 0\n",
    "            break"
   ]
  },
  {
   "cell_type": "code",
   "execution_count": 27,
   "id": "catholic-belarus",
   "metadata": {},
   "outputs": [],
   "source": [
    "torch.save(model, \"model_small.ckpt\")"
   ]
  },
  {
   "cell_type": "markdown",
   "id": "equipped-headset",
   "metadata": {},
   "source": [
    "# Test transformer"
   ]
  },
  {
   "cell_type": "code",
   "execution_count": 18,
   "id": "nutritional-factory",
   "metadata": {},
   "outputs": [],
   "source": [
    "with open(\"../data/en_biram_small.p\", 'rb') as f:\n",
    "    bigram = pickle.load(f)"
   ]
  },
  {
   "cell_type": "code",
   "execution_count": 35,
   "id": "laughing-manchester",
   "metadata": {},
   "outputs": [],
   "source": [
    "def translate(m, sent, src_voc, trg_voc, bigram):\n",
    "    beam_window = 3\n",
    "    m.eval()\n",
    "    tokens = word_tokenize(sent, language='russian')\n",
    "    print(tokens)\n",
    "    src = []\n",
    "    for t in tokens:\n",
    "        if t in src_voc.word_2_idx:\n",
    "            src.append(src_voc.word_2_idx[t])\n",
    "        else:\n",
    "            src.append(src_voc.word_2_idx[\"<UNK>\"])\n",
    "    src = torch.tensor([src]).long()\n",
    "    src_mask = (src != src_voc.word_2_idx[\"<PAD>\"]).unsqueeze(-2)\n",
    "    \n",
    "    e_outputs = m.encoder(src, src_mask)\n",
    "    \n",
    "    outputs = torch.zeros(100).type_as(src)\n",
    "    outputs[0] = trg_voc.word_2_idx[\"<SOS>\"]\n",
    "    \n",
    "    for i in range(1, 100):\n",
    "        trg_mask = np.triu(np.ones((1, i, i)), k=1).astype('uint8')\n",
    "        trg_mask = torch.from_numpy(trg_mask) == 0\n",
    "        out = m.out_fc(m.decoder(outputs[:i].unsqueeze(0), e_outputs, src_mask, trg_mask))\n",
    "        out = importance_sampling(out)  \n",
    "        \n",
    "        best_seq = beam_search(out, bigram=None, beam_window=beam_window)\n",
    "                           \n",
    "        outputs[i] = best_seq[0,-1]\n",
    "        if outputs[i] == trg_voc.word_2_idx['<EOS>']:\n",
    "            break\n",
    "    return ' '.join([trg_voc.idx_2_word[int(ix)] for ix in outputs[1:i]])"
   ]
  },
  {
   "cell_type": "code",
   "execution_count": 36,
   "id": "municipal-wilderness",
   "metadata": {},
   "outputs": [
    {
     "name": "stdout",
     "output_type": "stream",
     "text": [
      "['Отдел', 'полевого', 'персонала', 'с', 'тех', 'пор', 'анализирует', 'данные', 'в', 'разбивке', 'по', 'областям', 'деятельности', ',', 'уровню', 'должностей', 'и', 'миссиям', 'в', 'стремлении', 'выявить', 'возможности', 'для', 'улучшения', '.']\n"
     ]
    },
    {
     "data": {
      "text/plain": [
       "'In the , the , the the , the the , , , the the the the be , , , , , , , , , , the the the the the the the the the the the the the the the the the the be , , , , , , , , , , , , , , , , , , the the .'"
      ]
     },
     "execution_count": 36,
     "metadata": {},
     "output_type": "execute_result"
    }
   ],
   "source": [
    "translate(model, \n",
    "         \"Отдел полевого персонала с тех пор анализирует данные в разбивке по областям деятельности, уровню должностей и миссиям в стремлении выявить возможности для улучшения.\",\n",
    "         train_ds.ru_voc,\n",
    "         train_ds.en_voc, bigram=None)"
   ]
  },
  {
   "cell_type": "code",
   "execution_count": 31,
   "id": "neural-brick",
   "metadata": {},
   "outputs": [
    {
     "name": "stdout",
     "output_type": "stream",
     "text": [
      "['Отдел', 'полевого', 'персонала', 'с', 'тех', 'пор', 'анализирует', 'данные', 'в', 'разбивке', 'по', 'областям', 'деятельности', ',', 'уровню', 'должностей', 'и', 'миссиям', 'в', 'стремлении', 'выявить', 'возможности', 'для', 'улучшения', '.']\n",
      "[8975, 41112, 1242, 9, 150, 381, 29419, 311, 7, 26927, 13, 19893, 156, 4, 3703, 8780, 6, 72974, 7, 7225, 7464, 217, 12, 1231, 5]\n"
     ]
    },
    {
     "data": {
      "text/plain": [
       "'In the , the , the the , the the , , , the the the the be , , , , , , , , , , the the the the the the the the the the the the the the the the the the be , , , , , , , , , , , , , , , , , , the the .'"
      ]
     },
     "execution_count": 31,
     "metadata": {},
     "output_type": "execute_result"
    }
   ],
   "source": [
    "translate(model, \n",
    "         \"Отдел полевого персонала с тех пор анализирует данные в разбивке по областям деятельности, уровню должностей и миссиям в стремлении выявить возможности для улучшения.\",\n",
    "         train_ds.ru_voc,\n",
    "         train_ds.en_voc, bigram)"
   ]
  },
  {
   "cell_type": "code",
   "execution_count": 21,
   "id": "supported-federation",
   "metadata": {},
   "outputs": [],
   "source": [
    "def beam_search(in_scores, bigram=None, beam_window=2):\n",
    "    # -> [B, S, V]\n",
    "    B = in_scores.shape[0]\n",
    "    S = in_scores.shape[1]\n",
    "    V = in_scores.shape[2]\n",
    "    \n",
    "    res = torch.zeros((B, S), dtype=torch.long)\n",
    "    \n",
    "    cand_vs, cand_ids = in_scores.topk(beam_window, dim=-1)\n",
    "    for b_idx in range(B):\n",
    "        best_seqs = []\n",
    "        for word_idx in range(S):\n",
    "            # Get best candidates for given position\n",
    "            cand_idx = cand_ids[b_idx, word_idx]\n",
    "            cand_v = cand_vs[b_idx, word_idx]\n",
    "            # Calculate all possible outputs\n",
    "            seqs = []\n",
    "            for cand_pos in range(len(cand_v)):\n",
    "                if len(best_seqs) == 0:\n",
    "                    seqs.append([cand_idx[cand_pos].unsqueeze(0),cand_v[cand_pos]])\n",
    "                else:\n",
    "                    for best_seq in best_seqs:\n",
    "                        last_word = best_seq[0][-1]\n",
    "                        cand_bigram_prob = -100\n",
    "                        if bigram is not None and (last_word in bigram and cand_idx[cand_pos] in bigram[last_word]):\n",
    "                            cand_bigram_prob = torch.log(torch.tensor(bigram[last_word][cand_idx[cand_pos]]))\n",
    "                        \n",
    "                        new_seq = torch.cat([best_seq[0], cand_idx[cand_pos].unsqueeze(0)])\n",
    "                        new_score = best_seq[1] - cand_v[cand_pos] - cand_bigram_prob\n",
    "                        seqs.append([new_seq, new_score])\n",
    "            best_seqs = sorted(seqs, key=lambda x: x[1])[:beam_window]\n",
    "        res[b_idx] = best_seqs[0][0]\n",
    "    return res"
   ]
  },
  {
   "cell_type": "code",
   "execution_count": 37,
   "id": "missing-holly",
   "metadata": {},
   "outputs": [
    {
     "name": "stderr",
     "output_type": "stream",
     "text": [
      "\r",
      "  0%|          | 0/100 [00:00<?, ?it/s]"
     ]
    },
    {
     "name": "stdout",
     "output_type": "stream",
     "text": [
      "['26', '.', 'Вопрос', 'о', 'лесах', 'необходимо', 'вывести', 'на', 'более', 'высокий', 'уровень', 'в', 'рамках', 'целей', 'устойчивого', 'развития', ',', 'в', 'том', 'числе', 'посредством', 'включения', 'в', 'такие', 'цели', 'убедительных', 'и', 'четких', 'целевых', 'и', 'рабочих', 'показателей', 'по', 'лесам', '.']\n"
     ]
    },
    {
     "name": "stderr",
     "output_type": "stream",
     "text": [
      "\r",
      "  1%|          | 1/100 [00:06<11:19,  6.86s/it]"
     ]
    },
    {
     "name": "stdout",
     "output_type": "stream",
     "text": [
      "['В', 'рамках', 'экологической', 'экспертизы', 'определены', 'пять', 'вариантов', 'строительства', 'и', 'эксплуатации', 'замещающей', 'электростанции', ',', 'которая', 'восстановит', 'мощность', 'энергораспределительной', 'сети', 'Управления', 'по', 'состоянию', 'до', 'стихийного', 'бедствия', '.']\n"
     ]
    },
    {
     "name": "stderr",
     "output_type": "stream",
     "text": [
      "\r",
      "  2%|▏         | 2/100 [00:08<06:38,  4.07s/it]"
     ]
    },
    {
     "name": "stdout",
     "output_type": "stream",
     "text": [
      "['В', 'ходе', 'рассмотрения', 'данного', 'пункта', 'повестки', 'дня', 'Рабочая', 'группа', 'будет', 'кратко', 'проинформирована', 'Секретариатом', 'о', 'работе', 'УНП', 'ООН', 'по', 'содействию', 'ратификации', 'и', 'осуществлению', 'Протокола', 'об', 'огнестрельном', 'оружии', 'в', 'рамках', 'Глобальной', 'программы', 'по', 'огнестрельному', 'оружию', '.']\n"
     ]
    },
    {
     "name": "stderr",
     "output_type": "stream",
     "text": [
      "\r",
      "  3%|▎         | 3/100 [00:16<08:47,  5.44s/it]"
     ]
    },
    {
     "name": "stdout",
     "output_type": "stream",
     "text": [
      "['В', 'последние', 'месяцы', 'сирийское', 'правительство', 'позволило', 'террористам', 'использовать', 'территорию', 'своей', 'страны', 'в', 'качестве', 'базы', ',', 'действуя', 'с', 'которой', 'они', 'устанавливают', 'взрывные', 'устройства', 'на', 'обочинах', 'дорог', ',', 'наносят', 'ракетные', 'удары', 'по', 'Израилю', 'и', 'обстреливают', 'подразделения', 'Армии', 'обороны', 'Израиля', ',', 'дислоцированные', 'на', 'территории', 'страны', '.']\n"
     ]
    },
    {
     "name": "stderr",
     "output_type": "stream",
     "text": [
      "\r",
      "  4%|▍         | 4/100 [00:23<09:42,  6.07s/it]"
     ]
    },
    {
     "name": "stdout",
     "output_type": "stream",
     "text": [
      "['По', 'мнению', 'автора', ',', 'Иммиграционная', 'служба', 'допускает', ',', 'что', 'эти', 'события', 'действительно', 'имели', 'место', ',', 'несмотря', 'на', 'то', 'что', 'государство-участник', 'считает', 'их', 'не', 'относящимися', 'к', 'делу', 'и', 'не', 'являющимися', 'основанием', 'для', 'предоставления', 'убежища', '.']\n"
     ]
    },
    {
     "name": "stderr",
     "output_type": "stream",
     "text": [
      "\r",
      "  5%|▌         | 5/100 [00:30<10:17,  6.49s/it]"
     ]
    },
    {
     "name": "stdout",
     "output_type": "stream",
     "text": [
      "['1.', 'постановляет', 'санкционировать', 'увеличение', 'численности', 'личного', 'состава', 'МИНУСКА', 'на', '750', 'военнослужащих', ',', '280', 'полицейских', 'и', '20', 'сотрудников', 'исправительных', 'учреждений', 'в', 'дополнение', 'к', 'персоналу', ',', 'утвержденному', 'в', 'пункте', '20', 'резолюции', '2149', '(', '2014', ')', ';']\n"
     ]
    },
    {
     "name": "stderr",
     "output_type": "stream",
     "text": [
      "\r",
      "  6%|▌         | 6/100 [00:37<10:31,  6.72s/it]"
     ]
    },
    {
     "name": "stdout",
     "output_type": "stream",
     "text": [
      "['В', 'период', 'с', 'июня', '2007', 'года', 'по', 'март', '2008', 'года', 'было', 'проведено', 'четыре', 'раунда', 'прямых', 'переговоров', 'между', 'сторонами', ',', 'но', 'прогресса', 'добиться', 'не', 'удалось', ',', 'поскольку', 'Марокко', 'настаивало', 'на', 'том', ',', 'чтобы', 'ее', 'предложение', 'об', 'автономии', 'было', 'единственной', 'основой', 'для', 'переговоров', '.']\n"
     ]
    },
    {
     "name": "stderr",
     "output_type": "stream",
     "text": [
      "\r",
      "  7%|▋         | 7/100 [00:46<11:32,  7.44s/it]"
     ]
    },
    {
     "name": "stdout",
     "output_type": "stream",
     "text": [
      "['БАПОР', 'оказало', 'помощь', 'более', 'чем', '14', '000', 'палестинских', 'беженцев', 'в', 'рамках', 'проводимой', 'в', 'общинах', 'информационно-разъяснительной', 'и', 'профилактической', 'работы', ',', 'связанной', 'с', 'проблематикой', 'насилия', 'на', 'гендерной', 'почве', ',', 'прав', 'детей', 'и', 'прав', 'человека', ',', 'насилия', 'в', 'семье', ',', 'беспризорности', 'и', 'сексуальных', 'злоупотреблений', '.']\n"
     ]
    },
    {
     "name": "stderr",
     "output_type": "stream",
     "text": [
      "\r",
      "  8%|▊         | 8/100 [00:54<11:36,  7.57s/it]"
     ]
    },
    {
     "name": "stdout",
     "output_type": "stream",
     "text": [
      "['5', '.', 'Комитет', 'имел', 'в', 'своем', 'распоряжении', 'меморандум', 'секретариата', 'Конференции', 'от', '16', 'марта', '2015', 'года', 'о', 'полномочиях', 'представителей', 'государств', 'и', 'Европейского', 'союза', ',', 'участвующих', 'в', 'Конференции', '.']\n"
     ]
    },
    {
     "name": "stderr",
     "output_type": "stream",
     "text": [
      "\r",
      "  9%|▉         | 9/100 [01:01<11:22,  7.50s/it]"
     ]
    },
    {
     "name": "stdout",
     "output_type": "stream",
     "text": [
      "['В', 'соответствии', 'со', 'статьей', '28', 'Регламента', 'в', 'ее', 'состав', 'входят', 'по', 'должности', 'Председатель', 'и', 'заместитель', 'Председателя', 'Трибунала', ',', 'причем', 'Председатель', 'Трибунала', 'является', 'ее', 'председателем', '.']\n"
     ]
    },
    {
     "name": "stderr",
     "output_type": "stream",
     "text": [
      "\r",
      " 10%|█         | 10/100 [01:06<10:03,  6.71s/it]"
     ]
    },
    {
     "name": "stdout",
     "output_type": "stream",
     "text": [
      "['Секретариат', 'связался', 'с', 'секретариатом', 'Конвенции', 'о', 'биологическом', 'разнообразии', 'по', 'поводу', 'данных', ',', 'собранных', 'в', 'процессе', 'выявления', 'экологически', 'или', 'биологически', 'значимых', 'морских', 'районов', '.']\n"
     ]
    },
    {
     "name": "stderr",
     "output_type": "stream",
     "text": [
      "\r",
      " 11%|█         | 11/100 [01:08<07:51,  5.30s/it]"
     ]
    },
    {
     "name": "stdout",
     "output_type": "stream",
     "text": [
      "['8', '.', 'На', 'своем', '1м', 'заседании', 'Подготовительный', 'комитет', 'постановил', 'рекомендовать', 'Конференции', 'продолжить', 'переговоры', 'по', 'проекту', 'рамочной', 'программы', 'по', 'уменьшению', 'опасности', 'бедствий', 'на', 'период', 'после', '2015', 'года', 'в', 'Главном', 'комитете', '.']\n"
     ]
    },
    {
     "name": "stderr",
     "output_type": "stream",
     "text": [
      "\r",
      " 12%|█▏        | 12/100 [01:16<09:02,  6.17s/it]"
     ]
    },
    {
     "name": "stdout",
     "output_type": "stream",
     "text": [
      "['Истинная', 'цель', 'широкомасштабной', 'враждебной', 'политики', 'США', 'в', 'отношении', 'КНДР', 'состоит', 'в', 'том', ',', 'чтобы', 'окружить', 'континент', 'плотным', 'кольцом', 'блокады', 'и', 'чтобы', 'Дальний', 'Восток', 'и', 'Азиатский', 'континент', 'попустительствовали', 'американской', 'тактике', 'самоуправства', 'и', 'произвола', '.']\n"
     ]
    },
    {
     "name": "stderr",
     "output_type": "stream",
     "text": [
      "\r",
      " 13%|█▎        | 13/100 [01:25<09:54,  6.84s/it]"
     ]
    },
    {
     "name": "stdout",
     "output_type": "stream",
     "text": [
      "['вновь', 'подтверждая', ',', 'что', 'применение', 'химического', 'оружия', 'является', 'серьезным', 'нарушением', 'международного', 'права', ',', 'и', 'вновь', 'заявляя', ',', 'что', 'виновные', 'в', 'любом', 'применении', 'химического', 'оружия', 'должны', 'нести', 'за', 'это', 'ответственность', ',']\n"
     ]
    },
    {
     "name": "stderr",
     "output_type": "stream",
     "text": [
      "\r",
      " 14%|█▍        | 14/100 [01:32<10:05,  7.04s/it]"
     ]
    },
    {
     "name": "stdout",
     "output_type": "stream",
     "text": [
      "['не', 'допускать', 'осквернения', 'памяти', 'миллионов', 'жертв', ',', 'погибших', 'в', 'годы', 'Второй', 'мировой', 'войны', 'по', 'вине', 'нацистских', 'преступников', 'и', 'их', 'пособников', ',', 'решительно', 'осуждать', 'соответствующие', 'планы', 'и', 'тем', 'более', 'действия', ';']\n"
     ]
    },
    {
     "name": "stderr",
     "output_type": "stream",
     "text": [
      "\r",
      " 15%|█▌        | 15/100 [01:40<10:10,  7.18s/it]"
     ]
    },
    {
     "name": "stdout",
     "output_type": "stream",
     "text": [
      "['Кроме', 'того', ',', 'мы', 'сможем', ',', 'с', 'опорой', 'на', 'итоги', 'проведенного', '19', 'февраля', 'Вашингтонского', 'саммита', ',', 'рассмотреть', 'вопрос', 'о', 'мерах', ',', 'необходимых', 'для', 'борьбы', 'с', 'терроризмом', 'и', 'насильственным', 'экстремизмом', 'при', 'соблюдении', 'прав', 'человека', 'и', 'норм', 'международного', 'гуманитарного', 'права', '.']\n"
     ]
    },
    {
     "name": "stderr",
     "output_type": "stream",
     "text": [
      "\r",
      " 16%|█▌        | 16/100 [01:48<10:23,  7.42s/it]"
     ]
    },
    {
     "name": "stdout",
     "output_type": "stream",
     "text": [
      "['В', 'период', 'с', '22', 'декабря', '2014', 'года', 'по', '22', 'февраля', '2015', 'года', 'вооруженные', 'террористические', 'группы', 'подвергали', 'сирийские', 'города', 'бомбардировкам', 'и', 'обстрелам', 'из', 'артиллерийских', 'орудий', ',', 'в', 'результате', 'чего', '325', 'сирийских', 'гражданских', 'лиц', ',', 'в', 'том', 'числе', '57', 'детей', ',', 'были', 'убиты', 'и', '766', 'гражданских', 'лиц', ',', 'в', 'том', 'числе', '141', 'ребенок', ',', 'получили', 'ранения', '.']\n"
     ]
    },
    {
     "name": "stderr",
     "output_type": "stream",
     "text": [
      "\r",
      " 17%|█▋        | 17/100 [01:55<10:20,  7.48s/it]"
     ]
    },
    {
     "name": "stdout",
     "output_type": "stream",
     "text": [
      "['ОДРЧ', ',', 'с', 'одной', 'стороны', ',', 'является', 'независимым', 'подразделением', ',', 'а', 'с', 'другой', '--', 'зависит', 'в', 'то', 'же', 'время', 'от', 'подразделений', 'программы', 'ПРООН', 'в', 'плане', 'распространения', 'идей', 'и', 'использования', 'базы', 'знаний', 'страновых', 'отделений', '.']\n"
     ]
    },
    {
     "name": "stderr",
     "output_type": "stream",
     "text": [
      "\r",
      " 18%|█▊        | 18/100 [02:03<10:23,  7.60s/it]"
     ]
    },
    {
     "name": "stdout",
     "output_type": "stream",
     "text": [
      "['Они', 'призвали', 'к', 'разработке', 'системы', 'открытой', ',', 'инклюзивной', ',', 'неделимой', 'и', 'транспарентной', 'безопасности', 'и', 'сотрудничества', 'в', 'регионе', 'на', 'основе', 'общепризнанных', 'принципов', 'международного', 'права', '.']\n"
     ]
    },
    {
     "name": "stderr",
     "output_type": "stream",
     "text": [
      "\r",
      " 19%|█▉        | 19/100 [02:07<08:45,  6.49s/it]"
     ]
    },
    {
     "name": "stdout",
     "output_type": "stream",
     "text": [
      "['План', 'работы', 'по', 'разведке', 'кобальтоносных', 'железомарганцевых', 'корок', 'на', 'поднятии', 'Риу-Гранди', ',', 'проводимой', 'компанией', '<', '<', 'Компанья', 'де', 'пескиза', 'де', 'рекурсош', 'минерайш', 'СА', '>', '>', ',', 'поручителем', 'которой', 'выступает', 'Бразилия', ',', 'был', 'утвержден', 'Советом', 'в', 'июле', '2014', 'года', '.']\n"
     ]
    },
    {
     "name": "stderr",
     "output_type": "stream",
     "text": [
      "\r",
      " 20%|██        | 20/100 [02:14<08:59,  6.74s/it]"
     ]
    },
    {
     "name": "stdout",
     "output_type": "stream",
     "text": [
      "['Совет', 'будет', 'осуществлять', 'надзор', 'за', 'разработкой', 'общей', 'инфраструктуры', 'управления', 'информацией', ',', 'включая', 'единый', 'глобальный', 'цифровой', 'архив', 'официальной', 'документации', ',', 'исследований', 'и', 'статистики', '.']\n"
     ]
    },
    {
     "name": "stderr",
     "output_type": "stream",
     "text": [
      "\r",
      " 21%|██        | 21/100 [02:22<09:08,  6.94s/it]"
     ]
    },
    {
     "name": "stdout",
     "output_type": "stream",
     "text": [
      "['В', 'министерстве', 'была', 'создана', 'рабочая', 'группа', 'с', 'целью', 'сбора', 'информации', 'о', 'положении', 'женщин', 'в', 'сельских', 'районах', 'и', 'в', 'настоящее', 'время', 'ведется', 'работа', 'над', 'планом', 'действий', 'по', 'развитию', 'и', 'укреплению', 'роли', 'и', 'положения', 'женщин', 'в', 'сельских', 'районах', '.']\n"
     ]
    },
    {
     "name": "stderr",
     "output_type": "stream",
     "text": [
      "\r",
      " 22%|██▏       | 22/100 [02:30<09:20,  7.19s/it]"
     ]
    },
    {
     "name": "stdout",
     "output_type": "stream",
     "text": [
      "['Кроме', 'того', ',', 'экстремистски', 'настроенные', 'израильские', 'поселенцы', 'продолжают', 'терроризировать', 'палестинский', 'народ', ',', 'ежедневно', 'совершая', 'акты', ',', 'связанные', 'с', 'насилием', ',', 'разрушениями', 'и', 'запугиванием', 'и', 'часто', 'приводящие', 'к', 'жертвам', 'среди', 'гражданского', 'населения', ',', 'включая', 'детей', '.']\n"
     ]
    },
    {
     "name": "stderr",
     "output_type": "stream",
     "text": [
      "\r",
      " 23%|██▎       | 23/100 [02:37<09:26,  7.36s/it]"
     ]
    },
    {
     "name": "stdout",
     "output_type": "stream",
     "text": [
      "['39', '.', 'Комитет', 'обеспокоен', 'тем', ',', 'что', 'все', 'более', 'частое', 'использование', 'в', 'государстве-участнике', 'гендерно', 'нейтральных', 'формулировок', 'и', 'стратегий', 'может', 'непреднамеренно', 'приводить', 'к', 'усугублению', 'фактического', 'неравенства', 'между', 'женщинами', 'и', 'мужчинами', '.']\n"
     ]
    },
    {
     "name": "stderr",
     "output_type": "stream",
     "text": [
      "\r",
      " 24%|██▍       | 24/100 [02:45<09:32,  7.53s/it]"
     ]
    },
    {
     "name": "stdout",
     "output_type": "stream",
     "text": [
      "['Просьба', 'представить', 'информацию', 'о', 'мерах', ',', 'принятых', 'государством-участником', 'для', 'эффективного', 'предотвращения', 'насилия', 'в', 'семье', 'и', 'гендерно', 'мотивированных', 'убийств', ',', 'в', 'том', 'числе', 'убийств', 'женщин', 'и', 'так', 'называемых', 'преступлений', 'в', 'защиту', 'чести', '.']\n"
     ]
    },
    {
     "name": "stderr",
     "output_type": "stream",
     "text": [
      "\r",
      " 25%|██▌       | 25/100 [02:53<09:25,  7.53s/it]"
     ]
    },
    {
     "name": "stdout",
     "output_type": "stream",
     "text": [
      "['Власть', 'обязана', ',', 'прежде', 'всего', ',', 'гарантировать', 'права', 'женщинам', 'и', 'нести', 'полную', 'ответственность', 'за', 'предоставление', 'возможностей', 'социальной', 'и', 'творческой', 'реализации', 'для', 'максимально', 'возможного', 'количества', 'представительниц', 'женского', 'населения', 'планеты', '.']\n"
     ]
    },
    {
     "name": "stderr",
     "output_type": "stream",
     "text": [
      "\r",
      " 26%|██▌       | 26/100 [03:01<09:26,  7.66s/it]"
     ]
    },
    {
     "name": "stdout",
     "output_type": "stream",
     "text": [
      "['Предположительно', ',', 'дальнейшие', 'бомбардировки', 'произошли', '23', 'марта', 'и', '6', 'апреля', 'в', 'Делиебе', ',', 'округ', 'Рага', ',', 'и', '8', 'и', '9', 'апреля', 'в', 'Ньинбули', 'и', 'Ачане', ',', 'в', 'округе', 'Западный', 'Авейль', ',', 'и', 'в', 'Майом-Ангоке', ',', 'в', 'округе', 'Северный', 'Авейль', '.']\n"
     ]
    },
    {
     "name": "stderr",
     "output_type": "stream",
     "text": [
      "\r",
      " 27%|██▋       | 27/100 [03:08<09:20,  7.67s/it]"
     ]
    },
    {
     "name": "stdout",
     "output_type": "stream",
     "text": [
      "['2.', 'заявляет', ',', 'что', 'Эритрея', 'больше', 'других', 'государств', 'озабочена', 'восстановлением', 'безопасности', 'и', 'стабильности', 'в', 'Йемене', 'ввиду', 'исторически', 'сложившихся', 'добрососедских', 'отношений', 'между', 'двумя', 'странами', 'и', 'народами', ';']\n"
     ]
    },
    {
     "name": "stderr",
     "output_type": "stream",
     "text": [
      "\r",
      " 28%|██▊       | 28/100 [03:17<09:21,  7.79s/it]"
     ]
    },
    {
     "name": "stdout",
     "output_type": "stream",
     "text": [
      "['В', 'качестве', 'лидера', 'группы', 'альХуси', 'неоднократно', 'угрожал', 'йеменским', 'властям', 'организацией', 'новых', 'беспорядков', ',', 'если', 'они', 'не', 'выполнят', 'его', 'требования', ',', 'и', 'заключил', 'под', 'стражу', 'президента', 'Хади', ',', 'премьер-министра', 'и', 'основных', 'членов', 'кабинета', '.']\n"
     ]
    },
    {
     "name": "stderr",
     "output_type": "stream",
     "text": [
      "\r",
      " 29%|██▉       | 29/100 [03:24<09:12,  7.79s/it]"
     ]
    },
    {
     "name": "stdout",
     "output_type": "stream",
     "text": [
      "['Специальный', 'посланник', ',', 'основываясь', 'на', 'результатах', 'оценки', ',', 'представленных', 'ему', 'обеими', 'миссиями', ',', 'определит', ',', 'имеются', 'ли', 'условия', 'для', 'осуществления', 'этой', 'инициативы', 'по', 'введению', 'моратория', 'на', 'первоначальный', 'период', 'продолжительностью', 'шесть', 'недель', '.']\n"
     ]
    },
    {
     "name": "stderr",
     "output_type": "stream",
     "text": [
      "\r",
      " 30%|███       | 30/100 [03:32<08:55,  7.65s/it]"
     ]
    },
    {
     "name": "stdout",
     "output_type": "stream",
     "text": [
      "['подчеркивая', ',', 'что', 'масштабы', 'последствий', 'взрыва', 'ядерного', 'оружия', 'и', 'связанные', 'с', 'этим', 'угрозы', 'порождают', 'глубокие', 'моральные', 'и', 'этические', 'вопросы', ',', 'которые', 'выходят', 'за', 'рамки', 'дебатов', 'относительно', 'законности', 'ядерного', 'оружия', ',']\n"
     ]
    },
    {
     "name": "stderr",
     "output_type": "stream",
     "text": [
      "\r",
      " 31%|███       | 31/100 [03:39<08:42,  7.58s/it]"
     ]
    },
    {
     "name": "stdout",
     "output_type": "stream",
     "text": [
      "['Имею', 'честь', 'сослаться', 'на', 'резолюцию', '2206', '(', '2015', ')', 'Совета', 'Безопасности', ',', 'принятую', '3', 'марта', '2015', 'года', ',', 'в', 'которой', 'Совет', 'постановил', 'создать', 'Группу', 'экспертов', 'по', 'Южному', 'Судану', 'на', 'первоначальный', 'период', 'в', '13', 'месяцев', '.']\n"
     ]
    },
    {
     "name": "stderr",
     "output_type": "stream",
     "text": [
      "\r",
      " 32%|███▏      | 32/100 [03:47<08:35,  7.59s/it]"
     ]
    },
    {
     "name": "stdout",
     "output_type": "stream",
     "text": [
      "['В', 'ходе', 'закрытых', 'консультаций', ',', 'состоявшихся', 'по', 'завершении', 'заседания', ',', 'члены', 'Совета', 'осудили', 'жестокое', 'убийство', '21', 'египетского', 'гражданина', 'в', 'Ливии', 'и', 'выразили', 'соболезнования', 'правительству', 'и', 'народу', 'Египта', '.']\n"
     ]
    },
    {
     "name": "stderr",
     "output_type": "stream",
     "text": [
      "\r",
      " 33%|███▎      | 33/100 [03:55<08:37,  7.73s/it]"
     ]
    },
    {
     "name": "stdout",
     "output_type": "stream",
     "text": [
      "['Имею', 'честь', 'препроводить', 'настоящим', 'заявление', 'Министерства', 'иностранных', 'дел', 'Грузии', 'от', '18', 'марта', '2015', 'года', ',', 'касающееся', 'тридцать', 'первого', 'раунда', 'Женевских', 'международных', 'дискуссий', '(', 'см.', 'приложение', ')', '.']\n"
     ]
    },
    {
     "name": "stderr",
     "output_type": "stream",
     "text": [
      "\r",
      " 34%|███▍      | 34/100 [04:04<09:10,  8.35s/it]"
     ]
    },
    {
     "name": "stdout",
     "output_type": "stream",
     "text": [
      "['7', '.', 'Вопрос', 'о', 'пересмотре', 'методов', 'работы', 'Постоянного', 'форума', 'рассматривался', 'по', 'пункту', '8', 'повестки', 'дня', '<', '<', 'Будущая', 'работа', 'Постоянного', 'форума', ',', 'включая', 'вопросы', 'Экономического', 'и', 'Социального', 'Совета', 'и', 'новые', 'вопросы', '>', '>', '.']\n"
     ]
    },
    {
     "name": "stderr",
     "output_type": "stream",
     "text": [
      "\r",
      " 35%|███▌      | 35/100 [04:13<09:14,  8.52s/it]"
     ]
    },
    {
     "name": "stdout",
     "output_type": "stream",
     "text": [
      "['32', '.', 'Комитет', 'рекомендует', 'государству-участнику', 'принять', 'меры', 'для', 'снижения', 'высокого', 'уровня', 'распространенности', 'абортов', 'в', 'Гренландии', ',', 'в', 'том', 'числе', 'за', 'счет', 'внедрения', 'программ', 'просвещения', 'в', 'области', 'полового', 'и', 'репродуктивного', 'здоровья', ',', 'в', 'первую', 'очередь', 'в', 'школах', '.']\n"
     ]
    },
    {
     "name": "stderr",
     "output_type": "stream",
     "text": [
      "\r",
      " 36%|███▌      | 36/100 [04:22<09:14,  8.67s/it]"
     ]
    },
    {
     "name": "stdout",
     "output_type": "stream",
     "text": [
      "['Она', 'полностью', 'вовлечена', 'в', 'усилия', ',', 'предпринимаемые', 'Европейским', 'союзом', 'в', 'целях', 'поддержки', 'ОДВЗЯИ', ',', 'конкретным', 'проявлением', 'которой', 'стало', 'принятое', 'Советом', 'Европейского', 'союза', 'решение', 'о', 'поддержке', 'Союзом', 'деятельности', 'Подготовительной', 'комиссии', 'ОДВЗЯИ', '.']\n"
     ]
    },
    {
     "name": "stderr",
     "output_type": "stream",
     "text": [
      "\r",
      " 37%|███▋      | 37/100 [04:30<08:48,  8.40s/it]"
     ]
    },
    {
     "name": "stdout",
     "output_type": "stream",
     "text": [
      "['Таким', 'образом', ',', 'инвестиции', 'в', 'сферу', 'водоснабжения', 'и', 'санитарии', 'настоятельно', 'необходимы', 'для', 'того', ',', 'чтобы', 'построить', 'более', 'справедливое', 'и', 'равноправное', 'общество', ',', 'в', 'котором', 'женщины', 'и', 'мужчины', ',', 'девочки', 'и', 'мальчики', 'смогут', 'на', 'законных', 'основаниях', 'рассчитывать', 'на', 'более', 'комфортные', 'условия', 'жизни', 'и', 'на', 'благополучие', '.']\n"
     ]
    },
    {
     "name": "stderr",
     "output_type": "stream",
     "text": [
      "\r",
      " 38%|███▊      | 38/100 [04:38<08:29,  8.22s/it]"
     ]
    },
    {
     "name": "stdout",
     "output_type": "stream",
     "text": [
      "['По', 'итогам', 'обычных', 'для', 'таких', 'случаев', 'консультаций', 'я', 'хотел', 'бы', 'сообщить', 'Вам', ',', 'что', 'намерен', 'назначить', 'г-на', 'Яна', 'Кубиша', '(', 'Словакия', ')', 'моим', 'Специальным', 'представителем', 'по', 'Ираку', 'и', 'главой', 'Миссии', 'Организации', 'Объединенных', 'Наций', 'по', 'оказанию', 'содействия', 'Ираку', '.']\n"
     ]
    },
    {
     "name": "stderr",
     "output_type": "stream",
     "text": [
      "\r",
      " 39%|███▉      | 39/100 [04:45<08:05,  7.95s/it]"
     ]
    },
    {
     "name": "stdout",
     "output_type": "stream",
     "text": [
      "['В', 'рамках', 'программ', 'планирования', 'семьи', 'необходимо', 'предпринимать', 'шаги', 'для', 'обеспечения', 'оказания', 'услуг', 'всем', 'лицам', ',', 'отвечающим', 'необходимым', 'критериям', ',', 'даже', 'тем', 'лицам', ',', 'для', 'кого', 'обычные', 'услуги', 'здравоохранения', 'не', 'являются', 'легко', 'доступными', '.']\n"
     ]
    },
    {
     "name": "stderr",
     "output_type": "stream",
     "text": [
      "\r",
      " 40%|████      | 40/100 [04:53<07:49,  7.83s/it]"
     ]
    },
    {
     "name": "stdout",
     "output_type": "stream",
     "text": [
      "['Совет', 'Безопасности', 'выражает', 'серьезную', 'обеспокоенность', 'в', 'связи', 'с', 'сообщениями', 'о', 'нарушениях', 'и', 'попрании', 'прав', 'человека', 'и', 'массовом', 'перемещении', 'гражданского', 'населения', ',', 'в', 'том', 'числе', 'в', 'соседние', 'с', 'Нигерией', 'страны', '.']\n"
     ]
    },
    {
     "name": "stderr",
     "output_type": "stream",
     "text": [
      "\r",
      " 41%|████      | 41/100 [05:00<07:32,  7.68s/it]"
     ]
    },
    {
     "name": "stdout",
     "output_type": "stream",
     "text": [
      "['1', '.', 'Ирландия', 'представляет', 'настоящий', 'краткий', 'доклад', 'во', 'исполнение', 'действия', '20', 'плана', 'действий', ',', 'принятого', 'Конференцией', '2010', 'года', 'участников', 'Договора', 'о', 'нераспространении', 'ядерного', 'оружия', 'по', 'рассмотрению', 'действия', 'Договора', '.']\n"
     ]
    },
    {
     "name": "stderr",
     "output_type": "stream",
     "text": [
      "\r",
      " 42%|████▏     | 42/100 [05:10<08:04,  8.35s/it]"
     ]
    },
    {
     "name": "stdout",
     "output_type": "stream",
     "text": [
      "['Однако', 'при', 'рассмотрении', 'просьбы', 'Ирака', 'члены', 'Совета', 'управляющих', 'признали', ',', 'что', 'в', 'настоящее', 'время', 'в', 'стране', 'наблюдается', 'весьма', 'серьезный', 'кризис', 'в', 'плане', 'безопасности', ',', 'требующий', 'значительных', 'затрат', ',', 'и', 'заявили', 'о', 'своей', 'солидарности', 'с', 'Ираком', '.']\n"
     ]
    },
    {
     "name": "stderr",
     "output_type": "stream",
     "text": [
      "\r",
      " 43%|████▎     | 43/100 [05:18<07:42,  8.11s/it]"
     ]
    },
    {
     "name": "stdout",
     "output_type": "stream",
     "text": [
      "['Комитету', 'далее', 'сообщили', ',', 'что', 'на', 'этапе', 'ликвидации', 'Миссии', 'сроки', 'мероприятий', 'по', 'списанию', 'и', 'ликвидации', 'были', 'сокращены', ',', 'с', 'тем', 'чтобы', 'завершить', 'процесс', 'ликвидации', 'к', 'установленному', 'сроку', '.']\n"
     ]
    },
    {
     "name": "stderr",
     "output_type": "stream",
     "text": [
      "\r",
      " 44%|████▍     | 44/100 [05:25<07:29,  8.02s/it]"
     ]
    },
    {
     "name": "stdout",
     "output_type": "stream",
     "text": [
      "['отмечая', 'необходимость', 'в', 'финансировании', 'расходов', ',', 'связанных', 'с', 'расследованиями', 'или', 'судебным', 'преследованием', ',', 'осуществляемыми', 'Международным', 'уголовным', 'судом', ',', 'в', 'том', 'числе', 'в', 'связи', 'с', 'ситуациями', ',', 'переданными', 'Суду', 'Советом', 'Безопасности', ',']\n"
     ]
    },
    {
     "name": "stderr",
     "output_type": "stream",
     "text": [
      "\r",
      " 45%|████▌     | 45/100 [05:33<07:11,  7.84s/it]"
     ]
    },
    {
     "name": "stdout",
     "output_type": "stream",
     "text": [
      "['По', 'имеющимся', 'оценкам', ',', 'было', 'разрушено', 'или', 'серьезно', 'повреждено', '100', '000', 'домов', 'и', 'причинен', 'серьезный', 'материальный', 'ущерб', 'общественной', 'инфраструктуре', ',', 'в', 'том', 'числе', 'единственной', 'электростанции', 'в', 'Газе', 'и', 'важнейшим', 'инфраструктурным', 'объектам', 'водоснабжения', 'и', 'санитарии', '.']\n"
     ]
    },
    {
     "name": "stderr",
     "output_type": "stream",
     "text": [
      "\r",
      " 46%|████▌     | 46/100 [05:40<06:52,  7.63s/it]"
     ]
    },
    {
     "name": "stdout",
     "output_type": "stream",
     "text": [
      "['Он', 'представляет', 'собой', 'первую', 'часть', 'доклада', 'Генерального', 'секретаря', 'о', 'событиях', 'и', 'проблемах', ',', 'относящихся', 'к', 'вопросам', 'океана', 'и', 'морскому', 'праву', ',', 'который', 'будет', 'представлен', 'Ассамблее', 'на', 'рассмотрение', 'на', 'ее', 'семидесятой', 'сессии', '.']\n"
     ]
    },
    {
     "name": "stderr",
     "output_type": "stream",
     "text": [
      "\r",
      " 47%|████▋     | 47/100 [05:47<06:36,  7.48s/it]"
     ]
    },
    {
     "name": "stdout",
     "output_type": "stream",
     "text": [
      "['От', 'обязательств', 'к', 'результатам', ':', 'реформирование', 'государственных', 'учреждений', 'в', 'целях', 'содействия', 'всеохватной', 'разработке', 'и', 'интеграции', 'политики', 'в', 'деле', 'осуществления', 'и', 'контроля', 'за', 'осуществлением', 'целей', 'в', 'области', 'устойчивого', 'развития', ':']\n"
     ]
    },
    {
     "name": "stderr",
     "output_type": "stream",
     "text": [
      "\r",
      " 48%|████▊     | 48/100 [05:54<06:21,  7.34s/it]"
     ]
    },
    {
     "name": "stdout",
     "output_type": "stream",
     "text": [
      "['В', 'сфере', 'гарантий', 'Соединенные', 'Штаты', 'провели', 'национальные', ',', 'региональные', 'и', 'международные', 'учебные', 'курсы', 'по', 'государственным', 'системам', 'учета', 'и', 'контроля', 'ядерных', 'материалов', 'и', 'дополнительному', 'протоколу', 'и', 'оказали', 'поддержку', 'в', 'проведении', 'таких', 'курсов', '.']\n"
     ]
    },
    {
     "name": "stderr",
     "output_type": "stream",
     "text": [
      "\r",
      " 49%|████▉     | 49/100 [06:01<06:10,  7.27s/it]"
     ]
    },
    {
     "name": "stdout",
     "output_type": "stream",
     "text": [
      "['В', 'этой', 'связи', 'хочу', 'сообщить', 'Вам', ',', 'что', ',', 'проконсультировавшись', 'с', 'Комитетом', 'Совета', 'Безопасности', ',', 'учрежденным', 'резолюцией', '1572', '(', '2004', ')', 'по', \"Котд'Ивуару\", ',', 'я', 'назначил', 'следующих', 'экспертов', ':']\n"
     ]
    },
    {
     "name": "stderr",
     "output_type": "stream",
     "text": [
      "\r",
      " 50%|█████     | 50/100 [06:08<06:01,  7.23s/it]"
     ]
    },
    {
     "name": "stdout",
     "output_type": "stream",
     "text": [
      "['Соответственно', ',', 'объем', 'предлагаемых', 'ассигнований', 'по', 'данному', 'разделу', 'был', 'определен', 'на', 'основе', 'установленной', 'методологии', ',', 'но', 'с', 'учетом', 'результатов', 'стратегического', 'обзора', 'капитальных', 'активов', '.']\n"
     ]
    },
    {
     "name": "stderr",
     "output_type": "stream",
     "text": [
      "\r",
      " 51%|█████     | 51/100 [06:11<04:39,  5.70s/it]"
     ]
    },
    {
     "name": "stdout",
     "output_type": "stream",
     "text": [
      "['1', '.', 'Неотъемлемое', 'право', 'на', 'использование', 'ядерной', 'энергии', 'в', 'мирных', 'целях', 'является', 'одним', 'из', 'основных', 'компонентов', 'Договора', 'о', 'нераспространении', 'ядерного', 'оружия', 'наряду', 'с', 'ядерным', 'разоружением', 'и', 'нераспространением', '.']\n"
     ]
    },
    {
     "name": "stderr",
     "output_type": "stream",
     "text": [
      "\r",
      " 52%|█████▏    | 52/100 [06:18<04:54,  6.15s/it]"
     ]
    },
    {
     "name": "stdout",
     "output_type": "stream",
     "text": [
      "['Настоящий', 'документ', 'представляет', 'собой', 'краткое', 'изложение', 'более', 'масштабного', 'исследования', 'по', 'трансграничным', 'вопросам', ',', 'включая', 'признание', 'права', 'коренных', 'народов', 'на', 'трансграничную', 'торговлю', 'товарами', 'и', 'услугами', 'и', 'ее', 'осуществление', 'через', 'милитаризованные', 'районы', '.']\n"
     ]
    },
    {
     "name": "stderr",
     "output_type": "stream",
     "text": [
      "\r",
      " 53%|█████▎    | 53/100 [06:25<05:03,  6.46s/it]"
     ]
    },
    {
     "name": "stdout",
     "output_type": "stream",
     "text": [
      "['Ассоциация', 'подчеркивает', ',', 'что', 'соглашение', 'относительно', 'запрета', 'и', 'ликвидации', 'ядерного', 'оружия', 'станет', 'важным', 'шагом', 'на', 'пути', 'к', 'изменению', 'самого', 'дискурса', 'по', 'вопросам', 'безопасности', 'в', 'пользу', 'установления', 'политики', 'обеспечения', 'безопасности', ',', 'в', 'которой', 'предпочтение', 'отдавалось', 'бы', 'мирным', 'решениям', '.']\n"
     ]
    },
    {
     "name": "stderr",
     "output_type": "stream",
     "text": [
      "\r",
      " 54%|█████▍    | 54/100 [06:32<05:06,  6.66s/it]"
     ]
    },
    {
     "name": "stdout",
     "output_type": "stream",
     "text": [
      "['Имею', 'честь', 'препроводить', 'настоящим', 'заявление', 'министерства', 'иностранных', 'дел', 'Украины', 'в', 'связи', 'с', 'арестом', 'заместителя', 'Председателя', 'Меджлиса', 'крымско-татарского', 'народа', 'Ахтема', 'Чийгоза', '(', 'см.', 'приложение', ')', '.']\n"
     ]
    },
    {
     "name": "stderr",
     "output_type": "stream",
     "text": [
      "\r",
      " 55%|█████▌    | 55/100 [06:36<04:18,  5.74s/it]"
     ]
    },
    {
     "name": "stdout",
     "output_type": "stream",
     "text": [
      "['Мы', 'продолжим', 'работу', 'с', 'местными', 'общинами', 'и', 'разработку', 'политики', 'и', 'программ', 'по', 'борьбе', 'с', 'вышеуказанными', 'проблемами', ',', 'чтобы', 'обеспечить', 'всем', 'женщинам', 'надлежащее', 'физическое', 'и', 'психическое', 'здоровье', 'для', 'полной', ',', 'продуктивной', 'жизни', '.']\n"
     ]
    },
    {
     "name": "stderr",
     "output_type": "stream",
     "text": [
      "\r",
      " 56%|█████▌    | 56/100 [06:43<04:33,  6.22s/it]"
     ]
    },
    {
     "name": "stdout",
     "output_type": "stream",
     "text": [
      "['7', '.', 'Миссия', 'продолжит', 'поддерживать', 'упрочение', 'мира', 'и', 'всеохватный', 'и', 'транспарентный', 'политический', 'диалог', 'с', 'участием', 'всех', 'конголезских', 'заинтересованных', 'сторон', 'с', 'целью', 'продолжения', 'процесса', 'примирения', 'и', 'демократизации', '.']\n"
     ]
    },
    {
     "name": "stderr",
     "output_type": "stream",
     "text": [
      "\r",
      " 57%|█████▋    | 57/100 [06:51<04:48,  6.70s/it]"
     ]
    },
    {
     "name": "stdout",
     "output_type": "stream",
     "text": [
      "['Вышеуказанные', 'данные', 'не', 'включают', 'в', 'себя', 'гражданских', 'лиц', ',', 'которые', 'погибли', ',', 'которым', 'перерезали', 'горло', 'или', 'которые', 'были', 'убиты', 'какими-либо', 'другими', 'жестокими', ',', 'преступными', 'способами', ',', 'применяемыми', 'террористическими', 'организациями', '.']\n"
     ]
    },
    {
     "name": "stderr",
     "output_type": "stream",
     "text": [
      "\r",
      " 58%|█████▊    | 58/100 [06:59<04:55,  7.03s/it]"
     ]
    },
    {
     "name": "stdout",
     "output_type": "stream",
     "text": [
      "['Чтобы', 'получить', 'доступ', 'к', 'этому', 'праву', ',', 'реализовать', 'или', 'сохранить', 'его', 'женщинам', 'приходится', 'вести', 'неустанную', 'борьбу', 'с', 'такими', 'явлениями', ',', 'как', 'лишение', 'их', 'возможности', 'контролировать', 'рождаемость', ',', 'изнасилование', ',', 'используемое', 'в', 'качестве', 'орудия', 'войны', ',', 'клитеродектомия', 'или', 'криминализация', 'гомосексуализма', '.']\n"
     ]
    },
    {
     "name": "stderr",
     "output_type": "stream",
     "text": [
      "\r",
      " 59%|█████▉    | 59/100 [07:06<04:57,  7.26s/it]"
     ]
    },
    {
     "name": "stdout",
     "output_type": "stream",
     "text": [
      "['Доминиканская', 'Республика', 'создала', 'фонд', 'для', 'женщин-пользователей', 'лесов', ',', 'с', 'помощью', 'которого', 'им', 'оказывается', 'помощь', 'в', 'производстве', 'продуктов', 'питания', ',', 'заготовке', 'трав', 'и', 'сборе', 'и', 'продаже', 'лесных', 'побочных', 'продуктов', ',', 'включая', 'топливную', 'древесину', '.']\n"
     ]
    },
    {
     "name": "stderr",
     "output_type": "stream",
     "text": [
      "\r",
      " 60%|██████    | 60/100 [07:15<05:08,  7.72s/it]"
     ]
    },
    {
     "name": "stdout",
     "output_type": "stream",
     "text": [
      "['Поскольку', 'Комитет', 'является', 'единственным', 'органом', 'Организации', 'Объединенных', 'Наций', ',', 'занимающимся', 'исключительно', 'налоговыми', 'вопросами', ',', 'его', 'работа', 'и', 'последующая', 'деятельность', 'в', 'области', 'финансирования', 'развития', 'тесно', 'взаимосвязаны', 'и', 'дополняют', 'друг', 'друга', '.']\n"
     ]
    },
    {
     "name": "stderr",
     "output_type": "stream",
     "text": [
      "\r",
      " 61%|██████    | 61/100 [07:23<05:02,  7.77s/it]"
     ]
    },
    {
     "name": "stdout",
     "output_type": "stream",
     "text": [
      "['В', '2014', 'году', 'Объединенная', 'программа', 'совместно', 'с', 'Фондом', 'компании', '<', '<', 'МАК', '>', '>', 'по', 'борьбе', 'со', 'СПИДом', 'начали', 'осуществлять', 'глобальную', 'кампанию', 'с', 'участием', 'звезд', 'мирового', 'шоу-бизнеса', 'с', 'целью', 'увеличить', 'число', 'молодых', 'людей', ',', 'знающих', 'о', 'своем', 'серопозитивном', 'статусе', '.']\n"
     ]
    },
    {
     "name": "stderr",
     "output_type": "stream",
     "text": [
      "\r",
      " 62%|██████▏   | 62/100 [07:31<04:52,  7.68s/it]"
     ]
    },
    {
     "name": "stdout",
     "output_type": "stream",
     "text": [
      "['Так', ',', 'по', 'информации', 'организаций', 'системы', 'Организации', 'Объединенных', 'Наций', ',', 'в', 'декабре', '2014', 'года', 'с', 'сирийской', 'территории', 'продовольственная', 'помощь', 'была', 'доставлена', '3,6', 'миллиона', 'человек', ',', 'а', 'медицинская', 'помощь', '--', '500', '000', 'человек', '.']\n"
     ]
    },
    {
     "name": "stderr",
     "output_type": "stream",
     "text": [
      "\r",
      " 63%|██████▎   | 63/100 [07:38<04:40,  7.58s/it]"
     ]
    },
    {
     "name": "stdout",
     "output_type": "stream",
     "text": [
      "['Один', 'из', 'выступавших', 'отметил', 'также', ',', 'что', 'в', 'ходе', 'специальной', 'сессии', 'можно', 'особо', 'отметить', 'роль', 'УНП', 'ООН', 'в', 'области', 'международного', 'контроля', 'над', 'наркотиками', ',', 'которое', 'пользуется', 'поддержкой', 'других', 'специализированных', 'учреждений', ',', 'фондов', 'и', 'программ', 'Организации', 'Объединенных', 'Наций', '.']\n"
     ]
    },
    {
     "name": "stderr",
     "output_type": "stream",
     "text": [
      "\r",
      " 64%|██████▍   | 64/100 [07:45<04:29,  7.48s/it]"
     ]
    },
    {
     "name": "stdout",
     "output_type": "stream",
     "text": [
      "['Министры', 'иностранных', 'дел', 'Китая', 'и', 'России', 'вновь', 'подтвердили', 'значение', ',', 'которое', 'они', 'придают', 'статусу', 'Индии', 'в', 'международных', 'делах', ',', 'и', 'поддержали', 'ее', 'стремление', 'играть', 'более', 'весомую', 'роль', 'в', 'Организации', 'Объединенных', 'Наций', '.']\n"
     ]
    },
    {
     "name": "stderr",
     "output_type": "stream",
     "text": [
      "\r",
      " 65%|██████▌   | 65/100 [07:52<04:18,  7.38s/it]"
     ]
    },
    {
     "name": "stdout",
     "output_type": "stream",
     "text": [
      "['Грузия', 'и', 'Нигер', 'полностью', 'погасили', 'свою', 'задолженность', 'в', 'первой', 'половине', '2007', 'года', ',', 'полностью', 'выполнив', 'таким', 'образом', 'свои', 'планы', 'до', 'истечения', 'сроков', ',', 'указанных', 'в', 'пятом', 'годовом', 'докладе', '.']\n"
     ]
    },
    {
     "name": "stderr",
     "output_type": "stream",
     "text": [
      "\r",
      " 66%|██████▌   | 66/100 [07:59<04:08,  7.30s/it]"
     ]
    },
    {
     "name": "stdout",
     "output_type": "stream",
     "text": [
      "['174', '.', 'Участники', 'единодушно', 'согласились', 'с', 'тем', ',', 'что', 'торговля', 'находящимися', 'под', 'угрозой', 'исчезновения', 'видами', 'дикой', 'фауны', 'и', 'флоры', 'представляет', 'собой', 'серьезное', 'препятствие', 'на', 'пути', 'реализации', 'универсальных', 'прав', 'человека', 'и', 'достижения', 'мира', ',', 'безопасности', 'и', 'развития', '.']\n"
     ]
    },
    {
     "name": "stderr",
     "output_type": "stream",
     "text": [
      "\r",
      " 67%|██████▋   | 67/100 [08:07<03:59,  7.24s/it]"
     ]
    },
    {
     "name": "stdout",
     "output_type": "stream",
     "text": [
      "['Имею', 'честь', 'настоящим', 'препроводить', 'Вам', 'вербальную', 'ноту', ',', 'касающуюся', 'церемонии', 'подписания', 'Кодекса', 'добросовестного', 'поведения', 'средств', 'массовой', 'информации', 'и', 'журналистов', 'в', 'ходе', 'выборов', ',', 'которые', 'планируется', 'провести', 'в', 'Бурунди', 'в', '2015', 'году', '(', 'см.', 'приложение', ')', '.']\n"
     ]
    },
    {
     "name": "stderr",
     "output_type": "stream",
     "text": [
      "\r",
      " 68%|██████▊   | 68/100 [08:14<03:51,  7.24s/it]"
     ]
    },
    {
     "name": "stdout",
     "output_type": "stream",
     "text": [
      "['Основная', 'цель', 'этого', 'мероприятия', 'заключается', 'в', 'презентации', 'и', 'обсуждении', 'глобального', 'исследования', ',', 'посвященного', 'Договору', 'о', 'нераспространении', ',', 'и', 'предоставлении', 'молодым', 'ученым', 'возможности', 'высказать', 'свое', 'мнение', 'по', 'поводу', 'нынешних', 'и', 'будущих', 'проблем', 'и', 'возможностей', ',', 'связанных', 'с', 'этим', 'договором', '.']\n"
     ]
    },
    {
     "name": "stderr",
     "output_type": "stream",
     "text": [
      "\r",
      " 69%|██████▉   | 69/100 [08:21<03:43,  7.20s/it]"
     ]
    },
    {
     "name": "stdout",
     "output_type": "stream",
     "text": [
      "['В', 'суровые', 'годы', 'войны', 'на', 'полях', 'сражений', 'и', 'на', 'трудовом', 'фронте', 'ярко', 'проявились', 'нерушимая', 'дружба', 'и', 'высочайший', 'патриотизм', 'наших', 'народов', ',', 'завоевавших', 'в', 'едином', 'строю', 'общую', 'Победу', '.']\n"
     ]
    },
    {
     "name": "stderr",
     "output_type": "stream",
     "text": [
      "\r",
      " 70%|███████   | 70/100 [08:28<03:34,  7.16s/it]"
     ]
    },
    {
     "name": "stdout",
     "output_type": "stream",
     "text": [
      "['Наше', 'предложение', 'расследовать', 'нарушения', 'режима', 'прекращения', 'огня', 'для', 'установления', 'ответственных', 'за', 'конкретные', 'инциденты', 'остается', 'в', 'силе', 'вместе', 'с', 'другими', 'мерами', 'по', 'укреплению', 'доверия', 'и', 'безопасности', '.']\n"
     ]
    },
    {
     "name": "stderr",
     "output_type": "stream",
     "text": [
      "\r",
      " 71%|███████   | 71/100 [08:35<03:29,  7.23s/it]"
     ]
    },
    {
     "name": "stdout",
     "output_type": "stream",
     "text": [
      "['В', 'некоторых', 'зонах', 'защиты', 'гражданских', 'лиц', ',', 'в', 'том', 'числе', 'в', 'Бентиу', 'и', 'Малакале', ',', 'непрерывный', 'приток', 'внутренне', 'перемещенных', 'лиц', 'увеличивает', 'давление', 'на', 'объекты', 'и', 'приводит', 'к', 'снижению', 'качества', 'предоставляемых', 'услуг', '.']\n"
     ]
    },
    {
     "name": "stderr",
     "output_type": "stream",
     "text": [
      "\r",
      " 72%|███████▏  | 72/100 [08:43<03:26,  7.38s/it]"
     ]
    },
    {
     "name": "stdout",
     "output_type": "stream",
     "text": [
      "['На', 'Западном', 'берегу', ',', 'включая', 'Восточный', 'Иерусалим', ',', 'в', 'результате', 'сноса', 'домов', 'израильскими', 'властями', 'рекордное', 'число', 'палестинцев', '(', 'около', '1200', 'человек', ')', 'осталось', 'без', 'крова', ',', 'и', 'это', 'при', 'том', ',', 'что', 'строительство', 'поселений', 'и', 'поселенческая', 'активность', 'не', 'прекращались', '.']\n"
     ]
    },
    {
     "name": "stderr",
     "output_type": "stream",
     "text": [
      "\r",
      " 73%|███████▎  | 73/100 [08:52<03:28,  7.73s/it]"
     ]
    },
    {
     "name": "stdout",
     "output_type": "stream",
     "text": [
      "['Это', 'позволит', 'МАГАТЭ', 'выполнять', 'свою', 'предполагаемую', 'функцию', 'эффективной', 'проверки', 'выполнения', 'будущей', 'конвенции', 'по', 'ядерному', 'оружию', 'или', 'договора', 'о', 'запрещении', 'производства', 'расщепляющегося', 'материала', ',', 'охватывая', 'все', 'виды', 'ядерной', 'деятельности', 'и', 'все', 'существующие', 'запасы', 'ядерных', 'материалов', '.']\n"
     ]
    },
    {
     "name": "stderr",
     "output_type": "stream",
     "text": [
      "\r",
      " 74%|███████▍  | 74/100 [08:59<03:18,  7.64s/it]"
     ]
    },
    {
     "name": "stdout",
     "output_type": "stream",
     "text": [
      "['Комитет', 'заключил', ',', 'что', 'Экваториальная', 'Гвинея', 'по-прежнему', 'демонстрирует', 'чрезмерную', 'зависимость', 'от', 'углеводородного', 'сектора', ',', 'а', 'высокий', 'уровень', 'дохода', 'на', 'душу', 'населения', 'не', 'соответствует', 'низкому', 'показателю', 'человеческого', 'капитала', '.']\n"
     ]
    },
    {
     "name": "stderr",
     "output_type": "stream",
     "text": [
      "\r",
      " 75%|███████▌  | 75/100 [09:06<03:07,  7.51s/it]"
     ]
    },
    {
     "name": "stdout",
     "output_type": "stream",
     "text": [
      "['Буду', 'признателен', 'Вам', 'за', 'распространение', 'текста', 'настоящего', 'письма', 'и', 'приложения', 'к', 'нему', 'в', 'качестве', 'документа', 'Генеральной', 'Ассамблеи', 'по', 'пунктам', '35', 'и', '36', 'повестки', 'дня', 'и', 'в', 'качестве', 'документа', 'Совета', 'Безопасности', '.']\n"
     ]
    },
    {
     "name": "stderr",
     "output_type": "stream",
     "text": [
      "\r",
      " 76%|███████▌  | 76/100 [09:13<02:57,  7.41s/it]"
     ]
    },
    {
     "name": "stdout",
     "output_type": "stream",
     "text": [
      "['Сотрудник', 'по', 'расследованиям', 'уровня', 'С-4', 'будет', 'также', 'оказывать', 'следственным', 'группам', 'помощь', 'в', 'установлении', 'фактической', 'информации', 'оперативного', 'характера', ',', 'особенно', 'в', 'связи', 'с', 'более', 'сложными', 'случаями', ',', 'и', 'будет', 'подотчетен', 'главному', 'следователю', 'в', 'Найроби', '.']\n"
     ]
    },
    {
     "name": "stderr",
     "output_type": "stream",
     "text": [
      "\r",
      " 77%|███████▋  | 77/100 [09:21<02:48,  7.33s/it]"
     ]
    },
    {
     "name": "stdout",
     "output_type": "stream",
     "text": [
      "['Иначе', 'чем', 'целенаправленной', 'расправой', 'над', 'гражданским', 'населением', 'города', ',', 'жители', 'которого', 'никогда', 'не', 'желали', 'и', 'не', 'желают', 'иметь', 'ничего', 'общего', 'с', 'террористическими', 'группировками', ',', 'это', 'назвать', 'нельзя', '.']\n"
     ]
    },
    {
     "name": "stderr",
     "output_type": "stream",
     "text": [
      "\r",
      " 78%|███████▊  | 78/100 [09:28<02:39,  7.26s/it]"
     ]
    },
    {
     "name": "stdout",
     "output_type": "stream",
     "text": [
      "['В', 'этих', 'целях', 'Украина', 'восстановит', 'управление', 'сегментом', 'своей', 'банковской', 'системы', 'в', 'районах', ',', 'затронутых', 'конфликтом', ',', 'и', ',', 'возможно', ',', 'будет', 'создан', 'международный', 'механизм', 'для', 'облегчения', 'таких', 'переводов', '.']\n"
     ]
    },
    {
     "name": "stderr",
     "output_type": "stream",
     "text": [
      "\r",
      " 79%|███████▉  | 79/100 [09:35<02:31,  7.21s/it]"
     ]
    },
    {
     "name": "stdout",
     "output_type": "stream",
     "text": [
      "['В', 'этой', 'связи', 'имею', 'честь', 'информировать', 'Вас', 'о', 'том', ',', 'что', 'по', 'поручению', 'моего', 'правительства', 'я', 'обращаюсь', 'с', 'просьбой', 'о', 'сохранении', 'следующих', 'пунктов', ',', 'перечисленных', 'в', 'пункте', '3', 'вышеупомянутого', 'документа', ':']\n"
     ]
    },
    {
     "name": "stderr",
     "output_type": "stream",
     "text": [
      "\r",
      " 80%|████████  | 80/100 [09:42<02:23,  7.20s/it]"
     ]
    },
    {
     "name": "stdout",
     "output_type": "stream",
     "text": [
      "['Они', 'направлены', 'на', 'расширение', 'участия', 'гражданского', 'общества', 'в', 'процессе', 'реформирования', 'системы', 'уголовного', 'правосудия', ',', 'включая', 'надзор', 'и', 'контроль', 'со', 'стороны', 'граждан', 'за', 'эффективностью', 'работы', 'систем', 'уголовного', 'правосудия', ',', 'их', 'объективностью', 'и', 'за', 'соблюдением', 'ими', 'прав', 'человека', '.']\n"
     ]
    },
    {
     "name": "stderr",
     "output_type": "stream",
     "text": [
      "\r",
      " 81%|████████  | 81/100 [09:50<02:19,  7.35s/it]"
     ]
    },
    {
     "name": "stdout",
     "output_type": "stream",
     "text": [
      "['Турецкий', 'ракетный', 'катер', 'P-336', 'вторгся', 'в', 'территориальные', 'воды', 'Республики', 'Кипр', 'и', 'незаконно', 'воспользовался', 'закрытым', 'портом', 'Амохостос', ',', 'приняв', 'участие', 'в', 'военно-морских', 'учениях', 'оккупационных', 'сил', '.']\n"
     ]
    },
    {
     "name": "stderr",
     "output_type": "stream",
     "text": [
      "\r",
      " 82%|████████▏ | 82/100 [09:55<01:59,  6.62s/it]"
     ]
    },
    {
     "name": "stdout",
     "output_type": "stream",
     "text": [
      "['4', '.', 'Обеспечить', 'постоянно', 'действующий', 'мониторинг', 'на', 'украинско-российской', 'государственной', 'границе', 'и', 'верификацию', 'со', 'стороны', 'ОБСЕ', 'с', 'созданием', 'зоны', 'безопасности', 'в', 'приграничных', 'районах', 'Украины', 'и', 'Российской', 'Федерации', '.']\n"
     ]
    },
    {
     "name": "stderr",
     "output_type": "stream",
     "text": [
      "\r",
      " 83%|████████▎ | 83/100 [10:04<02:05,  7.36s/it]"
     ]
    },
    {
     "name": "stdout",
     "output_type": "stream",
     "text": [
      "['признавая', ',', 'что', 'содействие', 'приобретению', 'молодыми', 'людьми', 'навыков', 'усилит', 'их', 'способность', 'принимать', 'осознанные', 'решения', 'в', 'отношении', 'жизни', 'и', 'работы', 'и', 'расширит', 'их', 'возможности', 'в', 'плане', 'получения', 'доступа', 'на', 'претерпевающие', 'изменения', 'рынки', 'труда', ',']\n"
     ]
    },
    {
     "name": "stderr",
     "output_type": "stream",
     "text": [
      "\r",
      " 84%|████████▍ | 84/100 [10:13<02:05,  7.84s/it]"
     ]
    },
    {
     "name": "stdout",
     "output_type": "stream",
     "text": [
      "['12', '.', 'В', 'соответствии', 'с', 'Законом', 'о', 'предупреждении', 'насилия', 'в', 'семье', 'разработана', 'и', 'принята', 'Национальная', 'стратегия', 'предупреждения', 'насилия', 'в', 'семье', '(', '2014', '--', '2016', 'годы', ')', '.']\n"
     ]
    },
    {
     "name": "stderr",
     "output_type": "stream",
     "text": [
      "\r",
      " 85%|████████▌ | 85/100 [10:21<01:59,  7.96s/it]"
     ]
    },
    {
     "name": "stdout",
     "output_type": "stream",
     "text": [
      "['3', '.', 'Сообщаемые', 'по', 'каждой', 'рубрике', 'затраты', 'следует', ',', 'насколько', 'это', 'возможно', ',', 'приводить', 'в', 'следующей', 'разбивке', ':', 'a', ')', 'эксплуатационные', 'затраты', ';', 'b', ')', 'капитальные', 'затраты', ';', 'с', ')', 'расходы', 'на', 'укомплектование', 'штатов', 'и', 'содержание', 'персонала', ';', 'd', ')', 'накладные', 'расходы', '.']\n"
     ]
    },
    {
     "name": "stderr",
     "output_type": "stream",
     "text": [
      "\r",
      " 86%|████████▌ | 86/100 [10:29<01:50,  7.91s/it]"
     ]
    },
    {
     "name": "stdout",
     "output_type": "stream",
     "text": [
      "['ЮНСОА', 'продолжает', 'оказывать', 'поддержку', 'в', 'деле', 'предоставления', 'административных', ',', 'финансовых', 'и', 'технических', 'услуг', 'этой', 'интегрированной', 'миссии', 'в', 'рамках', 'комплексной', 'рамочной', 'программы', 'во', 'всех', 'штаб-квартирах', 'и', 'региональных', 'отделениях', '.']\n"
     ]
    },
    {
     "name": "stderr",
     "output_type": "stream",
     "text": [
      "\r",
      " 87%|████████▋ | 87/100 [10:38<01:49,  8.44s/it]"
     ]
    },
    {
     "name": "stdout",
     "output_type": "stream",
     "text": [
      "['Еще', 'один', 'семинар-практикум', '--', 'по', '<', '<', 'зеленой', '>', '>', 'экономике', 'и', 'социальным', 'аспектам', 'неистощительного', 'ведения', 'лесного', 'хозяйства', '--', 'был', 'проведен', 'в', 'Сантандере', ',', 'Испания', ',', 'в', 'апреле', '2014', 'года', '(', 'во', 'исполнение', 'пункта', '5', 'нынешней', 'программы', 'работы', '<', '<', 'Леса', 'Европы', '>', '>', ')', '.']\n"
     ]
    },
    {
     "name": "stderr",
     "output_type": "stream",
     "text": [
      "\r",
      " 88%|████████▊ | 88/100 [10:46<01:39,  8.28s/it]"
     ]
    },
    {
     "name": "stdout",
     "output_type": "stream",
     "text": [
      "['В', '2005', 'году', 'было', 'создано', 'Управление', 'служб', 'здравоохранения', 'территории', '--', 'автономное', 'учреждение', ',', 'которому', 'подчиняются', 'все', 'государственные', 'медицинские', 'службы', 'министерства', 'здравоохранения', 'и', 'социального', 'развития', '.']\n"
     ]
    },
    {
     "name": "stderr",
     "output_type": "stream",
     "text": [
      "\r",
      " 89%|████████▉ | 89/100 [10:50<01:17,  7.06s/it]"
     ]
    },
    {
     "name": "stdout",
     "output_type": "stream",
     "text": [
      "['вновь', 'призывая', 'все', 'стороны', 'в', 'Йемене', 'демонстрировать', 'приверженность', 'урегулированию', 'своих', 'разногласий', 'с', 'помощью', 'диалога', 'и', 'консультаций', ',', 'отвергнуть', 'акты', 'насилия', 'как', 'средство', 'достижения', 'политических', 'целей', 'и', 'воздерживаться', 'от', 'провокаций', ',']\n"
     ]
    },
    {
     "name": "stderr",
     "output_type": "stream",
     "text": [
      "\r",
      " 90%|█████████ | 90/100 [10:58<01:12,  7.28s/it]"
     ]
    },
    {
     "name": "stdout",
     "output_type": "stream",
     "text": [
      "['Недавний', 'демарш', 'Африканского', 'союза', ',', 'призвавшего', 'к', 'осуществлению', 'взаимодействия', 'между', 'его', '<', '<', 'Специальным', 'посланником', '>', '>', 'г-ном', 'Жоакимом', 'Чиссано', 'и', 'Советом', 'Безопасности', ',', 'является', 'для', 'Королевства', 'Марокко', 'совершенно', 'неприемлемым', '.']\n"
     ]
    },
    {
     "name": "stderr",
     "output_type": "stream",
     "text": [
      "\r",
      " 91%|█████████ | 91/100 [11:06<01:07,  7.47s/it]"
     ]
    },
    {
     "name": "stdout",
     "output_type": "stream",
     "text": [
      "['Соответственно', ',', 'хочу', 'сообщить', 'Вам', 'о', 'том', ',', 'что', 'после', 'консультаций', 'с', 'Комитетом', 'Совета', 'Безопасности', ',', 'учрежденным', 'резолюцией', '2206', '(', '2015', ')', 'по', 'Южному', 'Судану', ',', 'я', 'назначил', 'следующих', 'экспертов', ':']\n"
     ]
    },
    {
     "name": "stderr",
     "output_type": "stream",
     "text": [
      "\r",
      " 92%|█████████▏| 92/100 [11:14<01:00,  7.54s/it]"
     ]
    },
    {
     "name": "stdout",
     "output_type": "stream",
     "text": [
      "['В', '2013', 'году', 'на', 'долю', 'молодых', 'людей', 'в', 'возрасте', 'от', '15', 'до', '24', 'лет', 'приходился', '31', 'процент', 'новых', 'случаев', 'заражения', 'ВИЧ', 'по', 'всему', 'миру', ',', 'и', '57', 'процентов', 'новых', 'случаев', 'заражения', 'среди', 'этой', 'возрастной', 'группы', 'приходилось', 'на', 'девочек-подростков', 'и', 'молодых', 'женщин', '[', '1', ']', '.']\n"
     ]
    },
    {
     "name": "stderr",
     "output_type": "stream",
     "text": [
      "\r",
      " 93%|█████████▎| 93/100 [11:21<00:52,  7.54s/it]"
     ]
    },
    {
     "name": "stdout",
     "output_type": "stream",
     "text": [
      "['В', 'целом', ',', 'в', 'рамках', 'программы', 'по', 'молодежи', 'и', 'торговле', 'рассматриваются', 'вопросы', 'о', 'том', ',', 'как', 'адаптировать', 'существующий', 'инструментарий', 'Центра', 'для', 'целей', 'удовлетворения', 'потребностей', 'молодежи', 'и', 'какие', 'новые', 'инструменты', 'нужны', 'для', 'расширения', 'занятости', 'среди', 'молодежи', 'в', 'мировом', 'масштабе', '.']\n"
     ]
    },
    {
     "name": "stderr",
     "output_type": "stream",
     "text": [
      "\r",
      " 94%|█████████▍| 94/100 [11:29<00:45,  7.59s/it]"
     ]
    },
    {
     "name": "stdout",
     "output_type": "stream",
     "text": [
      "['43.', 'просит', 'Генерального', 'секретаря', 'представлять', 'Совету', 'каждые', 'три', 'месяца', 'доклад', 'о', 'ходе', 'осуществления', 'мандата', 'МООНСДРК', ',', 'включая', 'ее', 'бригаду', 'оперативного', 'вмешательства', ',', 'изложенного', 'в', 'настоящей', 'резолюции', ',', 'в', 'том', 'числе', 'о', 'следующих', 'аспектах', ':']\n"
     ]
    },
    {
     "name": "stderr",
     "output_type": "stream",
     "text": [
      "\r",
      " 95%|█████████▌| 95/100 [11:36<00:37,  7.52s/it]"
     ]
    },
    {
     "name": "stdout",
     "output_type": "stream",
     "text": [
      "['Без', 'непрерывного', 'поступления', 'взносов', 'целевой', 'фонд', 'не', 'сможет', 'оказывать', 'помощь', 'имеющим', 'на', 'нее', 'право', 'членам', 'на', 'протяжении', '21', 'недели', 'в', 'год', ',', 'в', 'течение', 'которых', 'проходят', 'заседания', 'Комиссии', 'и', 'ее', 'подкомиссий', '.']\n"
     ]
    },
    {
     "name": "stderr",
     "output_type": "stream",
     "text": [
      "\r",
      " 96%|█████████▌| 96/100 [11:45<00:30,  7.74s/it]"
     ]
    },
    {
     "name": "stdout",
     "output_type": "stream",
     "text": [
      "['6.4', 'Программа', 'ООН-СПАЙДЕР', 'была', 'учреждена', 'для', 'предоставления', 'всеобщего', 'доступа', 'ко', 'всем', 'видам', 'космической', 'информации', 'и', 'услуг', ',', 'связанных', 'с', 'предупреждением', 'бедствий', 'и', 'преодолением', 'их', 'последствий', ',', 'с', 'тем', 'чтобы', 'содействовать', 'осуществлению', 'полного', 'цикла', 'мероприятий', 'по', 'предупреждению', 'бедствий', 'и', 'преодолению', 'их', 'последствий', '.']\n"
     ]
    },
    {
     "name": "stderr",
     "output_type": "stream",
     "text": [
      "\r",
      " 97%|█████████▋| 97/100 [11:52<00:22,  7.63s/it]"
     ]
    },
    {
     "name": "stdout",
     "output_type": "stream",
     "text": [
      "['12.', 'вновь', 'обращается', 'с', 'просьбой', 'к', 'Генеральному', 'секретарю', 'и', 'другим', 'административным', 'руководителям', 'участвующих', 'организаций', 'оказывать', 'Группе', 'всестороннее', 'содействие', 'в', 'своевременном', 'получении', 'всей', 'запрашиваемой', 'ею', 'информации', ';']\n"
     ]
    },
    {
     "name": "stderr",
     "output_type": "stream",
     "text": [
      "\r",
      " 98%|█████████▊| 98/100 [11:59<00:15,  7.58s/it]"
     ]
    },
    {
     "name": "stdout",
     "output_type": "stream",
     "text": [
      "['Это', 'выступление', 'является', 'безответственным', ',', 'так', 'как', 'оно', 'непосредственно', 'бросает', 'вызов', 'основным', 'принципам', 'права', 'вооруженных', 'конфликтов', 'и', 'нормам', 'международного', 'гуманитарного', 'права', 'и', 'подрывает', 'международный', 'мир', 'и', 'безопасность', '.']\n"
     ]
    },
    {
     "name": "stderr",
     "output_type": "stream",
     "text": [
      "\r",
      " 99%|█████████▉| 99/100 [12:07<00:07,  7.51s/it]"
     ]
    },
    {
     "name": "stdout",
     "output_type": "stream",
     "text": [
      "['14', '.', 'Женевская', 'Конференция', 'по', 'разоружению', 'является', 'единственным', 'надлежащим', 'форумом', 'для', 'ведения', 'переговоров', 'относительно', 'договора', 'о', 'запрещении', 'производства', 'расщепляющего', 'материала', 'для', 'ядерного', 'оружия', 'или', 'других', 'ядерных', 'взрывных', 'устройств', '.']\n"
     ]
    },
    {
     "name": "stderr",
     "output_type": "stream",
     "text": [
      "100%|██████████| 100/100 [12:15<00:00,  7.36s/it]\n"
     ]
    }
   ],
   "source": [
    "with open(\"../data/eval-ru-100.txt\", 'r') as f:\n",
    "    test_lines = list(f.readlines())\n",
    "    \n",
    "with open(\"answer.txt\", 'w') as f:\n",
    "    for line in tqdm(test_lines):\n",
    "        answ = translate(model, \n",
    "             line,\n",
    "             train_ds.ru_voc,\n",
    "             train_ds.en_voc, \n",
    "             bigram)\n",
    "        f.write(answ+\"\\n\")"
   ]
  },
  {
   "cell_type": "code",
   "execution_count": null,
   "id": "annual-apparatus",
   "metadata": {},
   "outputs": [],
   "source": []
  }
 ],
 "metadata": {
  "kernelspec": {
   "display_name": "Python 3",
   "language": "python",
   "name": "python3"
  },
  "language_info": {
   "codemirror_mode": {
    "name": "ipython",
    "version": 3
   },
   "file_extension": ".py",
   "mimetype": "text/x-python",
   "name": "python",
   "nbconvert_exporter": "python",
   "pygments_lexer": "ipython3",
   "version": "3.8.5"
  }
 },
 "nbformat": 4,
 "nbformat_minor": 5
}
