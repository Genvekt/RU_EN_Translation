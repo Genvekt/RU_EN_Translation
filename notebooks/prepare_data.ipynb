{
 "cells": [
  {
   "cell_type": "code",
   "execution_count": 1,
   "id": "experimental-junior",
   "metadata": {},
   "outputs": [],
   "source": [
    "import sys\n",
    "sys.path.insert(1, '/home/genvekt/Dev/DL_Assignment_3/RU_EN_Translation/')\n"
   ]
  },
  {
   "cell_type": "code",
   "execution_count": 2,
   "id": "organic-thong",
   "metadata": {
    "scrolled": true
   },
   "outputs": [
    {
     "name": "stderr",
     "output_type": "stream",
     "text": [
      "[nltk_data] Downloading package punkt to /home/genvekt/nltk_data...\n",
      "[nltk_data]   Package punkt is already up-to-date!\n"
     ]
    }
   ],
   "source": [
    "from data_loaders.vocabulary import Vocabulary\n",
    "from utils import text_to_pickle, train_val_split\n",
    "from torch import nn\n",
    "from data_loaders.dataset import TextDataset\n",
    "import torch \n",
    "import torch.nn.functional as F\n",
    "import math\n",
    "import copy\n",
    "import time"
   ]
  },
  {
   "cell_type": "code",
   "execution_count": 3,
   "id": "essential-purchase",
   "metadata": {},
   "outputs": [],
   "source": [
    "torch.cuda.empty_cache()"
   ]
  },
  {
   "cell_type": "markdown",
   "id": "plastic-possession",
   "metadata": {},
   "source": [
    "## Parse Russian Vocabulary"
   ]
  },
  {
   "cell_type": "code",
   "execution_count": 3,
   "id": "impossible-dubai",
   "metadata": {},
   "outputs": [
    {
     "name": "stderr",
     "output_type": "stream",
     "text": [
      "100%|██████████| 1000000/1000000 [02:42<00:00, 6141.07it/s]\n"
     ]
    }
   ],
   "source": [
    "vocab = Vocabulary()\n",
    "vocab.parse_file(\"../data/corpus.en_ru.1m.ru\", language='russian')\n",
    "vocab.dump(\"../data/vocabularies/ru.voc\")"
   ]
  },
  {
   "cell_type": "markdown",
   "id": "former-forum",
   "metadata": {},
   "source": [
    "## Parse English Vocablary"
   ]
  },
  {
   "cell_type": "code",
   "execution_count": 4,
   "id": "municipal-spanish",
   "metadata": {},
   "outputs": [
    {
     "name": "stderr",
     "output_type": "stream",
     "text": [
      "100%|██████████| 1000000/1000000 [02:22<00:00, 7013.32it/s]\n"
     ]
    }
   ],
   "source": [
    "vocab = Vocabulary()\n",
    "vocab.parse_file(\"../data/corpus.en_ru.1m.en\", language='english')\n",
    "vocab.dump(\"../data/vocabularies/en.voc\")"
   ]
  },
  {
   "cell_type": "markdown",
   "id": "educated-treasury",
   "metadata": {},
   "source": [
    "# Parse texts to tokens"
   ]
  },
  {
   "cell_type": "code",
   "execution_count": 3,
   "id": "under-chocolate",
   "metadata": {},
   "outputs": [
    {
     "name": "stderr",
     "output_type": "stream",
     "text": [
      "100%|██████████| 1000000/1000000 [02:15<00:00, 7356.39it/s]\n"
     ]
    }
   ],
   "source": [
    "text_to_pickle(\"../data/corpus.en_ru.1m.en\", \"../data/corpus.en_ru.1m.en_tokens.p\", language=\"english\")"
   ]
  },
  {
   "cell_type": "code",
   "execution_count": 4,
   "id": "swedish-navigation",
   "metadata": {},
   "outputs": [
    {
     "name": "stderr",
     "output_type": "stream",
     "text": [
      "100%|██████████| 1000000/1000000 [02:35<00:00, 6415.40it/s]\n"
     ]
    }
   ],
   "source": [
    "text_to_pickle(\"../data/corpus.en_ru.1m.ru\", \"../data/corpus.en_ru.1m.ru_tokens.p\", language=\"russian\")"
   ]
  },
  {
   "cell_type": "markdown",
   "id": "arctic-wells",
   "metadata": {},
   "source": [
    "# Split corpus into 80% train and 20% test splits"
   ]
  },
  {
   "cell_type": "code",
   "execution_count": 5,
   "id": "humanitarian-paris",
   "metadata": {},
   "outputs": [],
   "source": [
    "train_val_split(text_file1=\"../data/corpus.en_ru.1m.ru_tokens.p\",\n",
    "                text_file2=\"../data/corpus.en_ru.1m.en_tokens.p\",\n",
    "                train_file1=\"../data/corpus.en_ru.1m.ru_tokens_train.p\",\n",
    "                train_file2=\"../data/corpus.en_ru.1m.en_tokens_train.p\",\n",
    "                val_file1=\"../data/corpus.en_ru.1m.ru_tokens_val.p\",\n",
    "                val_file2=\"../data/corpus.en_ru.1m.en_tokens_val.p\")"
   ]
  },
  {
   "cell_type": "code",
   "execution_count": 4,
   "id": "rolled-liabilities",
   "metadata": {},
   "outputs": [],
   "source": [
    "class Embedder(nn.Module):\n",
    "    def __init__(self, vocab_size, d_model):\n",
    "        super().__init__()\n",
    "        self.embed = nn.Embedding(vocab_size, d_model)\n",
    "    def forward(self, x):\n",
    "        return self.embed(x)"
   ]
  },
  {
   "cell_type": "code",
   "execution_count": 5,
   "id": "swedish-court",
   "metadata": {},
   "outputs": [],
   "source": [
    "class PositionalEncoder(nn.Module):\n",
    "    def __init__(self, d_model, max_seq_len = 80):\n",
    "        super().__init__()\n",
    "        self.d_model = d_model\n",
    "        \n",
    "        # create constant 'pe' matrix with values dependant on \n",
    "        # pos and i\n",
    "        pe = torch.zeros(max_seq_len, d_model)\n",
    "        for pos in range(max_seq_len):\n",
    "            for i in range(0, d_model, 2):\n",
    "                pe[pos, i] = \\\n",
    "                math.sin(pos / (10000 ** ((2 * i)/d_model)))\n",
    "                pe[pos, i + 1] = \\\n",
    "                math.cos(pos / (10000 ** ((2 * (i + 1))/d_model)))\n",
    "                \n",
    "        pe = pe.unsqueeze(0)\n",
    "        self.register_buffer('pe', pe)\n",
    " \n",
    "    \n",
    "    def forward(self, x):\n",
    "        # make embeddings relatively larger\n",
    "        x = x * math.sqrt(self.d_model)\n",
    "        #add constant to embedding\n",
    "        seq_len = x.size(1)\n",
    "        x = x + Variable(self.pe[:,:seq_len], requires_grad=False).type_as(x)\n",
    "        return x\n",
    "\n"
   ]
  },
  {
   "cell_type": "code",
   "execution_count": 6,
   "id": "prompt-token",
   "metadata": {},
   "outputs": [],
   "source": [
    "class MultiHeadAttention(nn.Module):\n",
    "    def __init__(self, heads, d_model, dropout = 0.1):\n",
    "        super().__init__()\n",
    "        \n",
    "        self.d_model = d_model\n",
    "        self.d_k = d_model // heads\n",
    "        self.h = heads\n",
    "        \n",
    "        self.q_linear = nn.Linear(d_model, d_model)\n",
    "        self.v_linear = nn.Linear(d_model, d_model)\n",
    "        self.k_linear = nn.Linear(d_model, d_model)\n",
    "        self.dropout = nn.Dropout(dropout)\n",
    "        self.out = nn.Linear(d_model, d_model)\n",
    "    \n",
    "    def forward(self, q, k, v, mask=None):\n",
    "        \n",
    "        bs = q.size(0)\n",
    "        \n",
    "        # perform linear operation and split into h heads\n",
    "        \n",
    "        k = self.k_linear(k).view(bs, -1, self.h, self.d_k)\n",
    "        q = self.q_linear(q).view(bs, -1, self.h, self.d_k)\n",
    "        v = self.v_linear(v).view(bs, -1, self.h, self.d_k)\n",
    "        \n",
    "        # transpose to get dimensions bs * h * sl * d_model\n",
    "       \n",
    "        k = k.transpose(1,2)\n",
    "        q = q.transpose(1,2)\n",
    "        v = v.transpose(1,2)# calculate attention using function we will define next\n",
    "        scores = attention(q, k, v, self.d_k, mask, self.dropout)\n",
    "        \n",
    "        # concatenate heads and put through final linear layer\n",
    "        concat = scores.transpose(1,2).contiguous()\\\n",
    "        .view(bs, -1, self.d_model)\n",
    "        \n",
    "        output = self.out(concat)\n",
    "    \n",
    "        return output"
   ]
  },
  {
   "cell_type": "code",
   "execution_count": 7,
   "id": "protecting-round",
   "metadata": {},
   "outputs": [],
   "source": [
    "def attention(q, k, v, d_k, mask=None, dropout=None):\n",
    "    \n",
    "    scores = torch.matmul(q, k.transpose(-2, -1)) /  math.sqrt(d_k)\n",
    "    if mask is not None:\n",
    "        mask = mask.unsqueeze(1)\n",
    "        scores = scores.masked_fill(mask == 0, -1e9)\n",
    "        scores = F.softmax(scores, dim=-1)\n",
    "    \n",
    "    if dropout is not None:\n",
    "        scores = dropout(scores)\n",
    "        \n",
    "    output = torch.matmul(scores, v)\n",
    "    return output"
   ]
  },
  {
   "cell_type": "code",
   "execution_count": 8,
   "id": "suited-poultry",
   "metadata": {},
   "outputs": [],
   "source": [
    "class FeedForward(nn.Module):\n",
    "    def __init__(self, d_model, d_ff=2048, dropout = 0.1):\n",
    "        super().__init__() \n",
    "        # We set d_ff as a default to 2048\n",
    "        self.linear_1 = nn.Linear(d_model, d_ff)\n",
    "        self.dropout = nn.Dropout(dropout)\n",
    "        self.linear_2 = nn.Linear(d_ff, d_model)\n",
    "    def forward(self, x):\n",
    "        x = self.dropout(F.relu(self.linear_1(x)))\n",
    "        x = self.linear_2(x)\n",
    "        return x"
   ]
  },
  {
   "cell_type": "code",
   "execution_count": 9,
   "id": "adult-visiting",
   "metadata": {},
   "outputs": [],
   "source": [
    "class Norm(nn.Module):\n",
    "    def __init__(self, d_model, eps = 1e-6):\n",
    "        super().__init__()\n",
    "    \n",
    "        self.size = d_model\n",
    "        # create two learnable parameters to calibrate normalisation\n",
    "        self.alpha = nn.Parameter(torch.ones(self.size))\n",
    "        self.bias = nn.Parameter(torch.zeros(self.size))\n",
    "        self.eps = eps\n",
    "    def forward(self, x):\n",
    "        norm = self.alpha * (x - x.mean(dim=-1, keepdim=True)) \\\n",
    "        / (x.std(dim=-1, keepdim=True) + self.eps) + self.bias\n",
    "        return norm"
   ]
  },
  {
   "cell_type": "code",
   "execution_count": 10,
   "id": "indian-practitioner",
   "metadata": {},
   "outputs": [],
   "source": [
    "# build an encoder layer with one multi-head attention layer and one # feed-forward layer\n",
    "class EncoderLayer(nn.Module):\n",
    "    def __init__(self, d_model, heads, dropout = 0.1):\n",
    "        super().__init__()\n",
    "        self.norm_1 = Norm(d_model)\n",
    "        self.norm_2 = Norm(d_model)\n",
    "        self.attn = MultiHeadAttention(heads, d_model)\n",
    "        self.ff = FeedForward(d_model)\n",
    "        self.dropout_1 = nn.Dropout(dropout)\n",
    "        self.dropout_2 = nn.Dropout(dropout)\n",
    "        \n",
    "    def forward(self, x, mask):\n",
    "        x2 = self.norm_1(x)\n",
    "        x = x + self.dropout_1(self.attn(x2,x2,x2,mask))\n",
    "        x2 = self.norm_2(x)\n",
    "        x = x + self.dropout_2(self.ff(x2))\n",
    "        return x\n",
    "    \n",
    "# build a decoder layer with two multi-head attention layers and\n",
    "# one feed-forward layer\n",
    "class DecoderLayer(nn.Module):\n",
    "    def __init__(self, d_model, heads, dropout=0.1):\n",
    "        super().__init__()\n",
    "        self.norm_1 = Norm(d_model)\n",
    "        self.norm_2 = Norm(d_model)\n",
    "        self.norm_3 = Norm(d_model)\n",
    "        \n",
    "        self.dropout_1 = nn.Dropout(dropout)\n",
    "        self.dropout_2 = nn.Dropout(dropout)\n",
    "        self.dropout_3 = nn.Dropout(dropout)\n",
    "        \n",
    "        self.attn_1 = MultiHeadAttention(heads, d_model)\n",
    "        self.attn_2 = MultiHeadAttention(heads, d_model)\n",
    "        self.ff = FeedForward(d_model)\n",
    "    def forward(self, x, e_outputs, src_mask, trg_mask):\n",
    "        x2 = self.norm_1(x)\n",
    "        x = x + self.dropout_1(self.attn_1(x2, x2, x2, trg_mask))\n",
    "        x2 = self.norm_2(x)\n",
    "        x = x + self.dropout_2(self.attn_2(x2, e_outputs, e_outputs,\n",
    "        src_mask))\n",
    "        x2 = self.norm_3(x)\n",
    "        x = x + self.dropout_3(self.ff(x2))\n",
    "        return x# We can then build a convenient cloning function that can generate multiple layers:\n",
    "def get_clones(module, N):\n",
    "    return nn.ModuleList([copy.deepcopy(module) for i in range(N)])"
   ]
  },
  {
   "cell_type": "code",
   "execution_count": 11,
   "id": "bound-jones",
   "metadata": {},
   "outputs": [],
   "source": [
    "class Encoder(nn.Module):\n",
    "    def __init__(self, vocab_size, d_model, N, heads):\n",
    "        super().__init__()\n",
    "        self.N = N\n",
    "        self.embed = Embedder(vocab_size, d_model)\n",
    "        self.pe = PositionalEncoder(d_model)\n",
    "        self.layers = get_clones(EncoderLayer(d_model, heads), N)\n",
    "        self.norm = Norm(d_model)\n",
    "    def forward(self, src, mask):\n",
    "        x = self.embed(src)\n",
    "        x = self.pe(x)\n",
    "        for i in range(N):\n",
    "            x = self.layers[i](x, mask)\n",
    "        return self.norm(x)\n",
    "    \n",
    "class Decoder(nn.Module):\n",
    "    def __init__(self, vocab_size, d_model, N, heads):\n",
    "        super().__init__()\n",
    "        self.N = N\n",
    "        self.embed = Embedder(vocab_size, d_model)\n",
    "        self.pe = PositionalEncoder(d_model)\n",
    "        self.layers = get_clones(DecoderLayer(d_model, heads), N)\n",
    "        self.norm = Norm(d_model)\n",
    "    def forward(self, trg, e_outputs, src_mask, trg_mask):\n",
    "        x = self.embed(trg)\n",
    "        x = self.pe(x)\n",
    "        for i in range(self.N):\n",
    "            x = self.layers[i](x, e_outputs, src_mask, trg_mask)\n",
    "        return self.norm(x)"
   ]
  },
  {
   "cell_type": "code",
   "execution_count": 12,
   "id": "amended-palestine",
   "metadata": {},
   "outputs": [],
   "source": [
    "class Transformer(nn.Module):\n",
    "    def __init__(self, src_vocab, trg_vocab, d_model, N, heads):\n",
    "        super().__init__()\n",
    "        self.encoder = Encoder(src_vocab, d_model, N, heads)\n",
    "        self.decoder = Decoder(trg_vocab, d_model, N, heads)\n",
    "        self.out = nn.Linear(d_model, trg_vocab)\n",
    "    def forward(self, src, trg, src_mask, trg_mask):\n",
    "        e_outputs = self.encoder(src, src_mask)\n",
    "        d_output = self.decoder(trg, e_outputs, src_mask, trg_mask)\n",
    "        output = self.out(d_output)\n",
    "        return output# we don't perform softmax on the output as this will be handled \n",
    "# automatically by our loss function"
   ]
  },
  {
   "cell_type": "code",
   "execution_count": 13,
   "id": "magnetic-speaking",
   "metadata": {},
   "outputs": [],
   "source": [
    "train_ds = TextDataset(ru_tokens=\"../data/corpus.en_ru.1m.ru_tokens_train.p\",\n",
    "                 ru_voc=\"../data/vocabularies/ru.voc\",\n",
    "                 en_tokens=\"../data/corpus.en_ru.1m.en_tokens_train.p\",\n",
    "                 en_voc=\"../data/vocabularies/en.voc\")"
   ]
  },
  {
   "cell_type": "code",
   "execution_count": 14,
   "id": "wanted-penetration",
   "metadata": {},
   "outputs": [],
   "source": [
    "import random\n",
    "\n",
    "class Batches:\n",
    "    def __init__(self, dataset, batch_size, sort=True, train=True):\n",
    "        self.train = train\n",
    "        self.dataset = dataset\n",
    "        self.batch_size = batch_size\n",
    "        self.len = len(dataset) // batch_size\n",
    "        if self.len * batch_size < len(dataset):\n",
    "            self.len += 1\n",
    "            \n",
    "        if self.train:\n",
    "            self.dataset.sort()\n",
    "            \n",
    "    def iterate(self):\n",
    "        # Create batch indexes and shuffle them\n",
    "        batch_ids = list(range(self.len))\n",
    "        random.shuffle(batch_ids)\n",
    "        \n",
    "        for idx in batch_ids:\n",
    "            start_id = idx*self.batch_size\n",
    "            end_id = min((idx+1)*self.batch_size, len(self.dataset))\n",
    "            \n",
    "            batch_ru = []\n",
    "            batch_en = []\n",
    "            # Create ru batch\n",
    "            for item_idx in range(start_id, end_id):\n",
    "                items = self.dataset[item_idx]\n",
    "                if self.train:\n",
    "                    batch_ru.append(items[0])\n",
    "                    batch_en.append(items[1])\n",
    "                else:\n",
    "                    batch_ru.append(items)\n",
    "            \n",
    "            batch_ru =  self.pad_batch(batch_ru, \n",
    "                                       self.dataset.ru_voc.word_2_idx['<PAD>'])\n",
    "            \n",
    "            if self.train:\n",
    "                batch_en =  self.pad_batch(batch_en, \n",
    "                                           self.dataset.en_voc.word_2_idx['<PAD>'])\n",
    "                \n",
    "                yield batch_ru, batch_en\n",
    "                \n",
    "            else:\n",
    "                yield batch_ru\n",
    "        \n",
    "        \n",
    "    def pad_batch(self, batch, pad_idx):\n",
    "        # Get the length of longest sentence in batch\n",
    "        max_len = max([len(item) for item in batch])\n",
    "        \n",
    "        # Create empty batch\n",
    "        padded_batch = torch.full((len(batch), max_len) , fill_value=pad_idx)\n",
    "        for item_id in range(len(batch)):\n",
    "            item = batch[item_id]\n",
    "            padded_batch[item_id, :len(item)] = item\n",
    "        return padded_batch\n",
    "    \n",
    "    def pad_idx(self, is_source=True):\n",
    "        if is_source:\n",
    "            return self.dataset.ru_voc.word_2_idx['<PAD>']\n",
    "        else:\n",
    "            return self.dataset.en_voc.word_2_idx['<PAD>']"
   ]
  },
  {
   "cell_type": "code",
   "execution_count": 15,
   "id": "available-sailing",
   "metadata": {},
   "outputs": [],
   "source": [
    "batched_train_ds = Batches(train_ds, 5, train=True)"
   ]
  },
  {
   "cell_type": "code",
   "execution_count": 16,
   "id": "palestinian-omega",
   "metadata": {},
   "outputs": [],
   "source": [
    "import numpy as np\n",
    "from torch.autograd import Variable\n",
    "\n",
    "def nopeak_mask(size):\n",
    "    np_mask = np.triu(np.ones((1, size, size)), k=1).astype('uint8')\n",
    "    np_mask =  Variable(torch.from_numpy(np_mask) == 0)\n",
    "    return np_mask\n",
    "\n",
    "def create_masks(src_batch, src_pad, trg_batch=None, trg_pad=None):\n",
    "    src_msk = (src_batch != src_pad).unsqueeze(-2).long()\n",
    "    \n",
    "    if trg_batch is not None:\n",
    "        trg_msk = (trg_batch != trg_pad).unsqueeze(-2).bool()\n",
    "        trg_len = trg_batch.size(1)\n",
    "        np_msk = nopeak_mask(trg_len).type_as(trg_batch).bool()\n",
    "        trg_msk = (trg_msk & np_msk).long()\n",
    "    else:\n",
    "        trg_mask = None\n",
    "    return src_msk, trg_msk"
   ]
  },
  {
   "cell_type": "code",
   "execution_count": 17,
   "id": "adaptive-affairs",
   "metadata": {},
   "outputs": [],
   "source": [
    "d_model = 512\n",
    "heads = 8\n",
    "N = 6\n",
    "src_vocab = len(train_ds.ru_voc)\n",
    "trg_vocab = len(train_ds.en_voc)\n",
    "\n",
    "model = Transformer(src_vocab, trg_vocab, d_model, N, heads)\n",
    "\n",
    "for p in model.parameters():\n",
    "    if p.dim() > 1:\n",
    "        nn.init.xavier_uniform_(p)# this code is very important! It initialises the parameters with a\n",
    "# range of values that stops the signal fading or getting too big.\n",
    "# See this blog for a mathematical explanation.optim = torch.optim.Adam(model.parameters(), lr=0.0001, betas=(0.9, 0.98), eps=1e-9)"
   ]
  },
  {
   "cell_type": "code",
   "execution_count": 18,
   "id": "raised-wisconsin",
   "metadata": {},
   "outputs": [
    {
     "ename": "RuntimeError",
     "evalue": "CUDA out of memory. Tried to allocate 896.00 MiB (GPU 0; 3.95 GiB total capacity; 2.60 GiB already allocated; 505.31 MiB free; 2.61 GiB reserved in total by PyTorch)",
     "output_type": "error",
     "traceback": [
      "\u001b[0;31m---------------------------------------------------------------------------\u001b[0m",
      "\u001b[0;31mRuntimeError\u001b[0m                              Traceback (most recent call last)",
      "\u001b[0;32m<ipython-input-18-a073766a706c>\u001b[0m in \u001b[0;36m<module>\u001b[0;34m\u001b[0m\n\u001b[0;32m----> 1\u001b[0;31m \u001b[0mmodel\u001b[0m \u001b[0;34m=\u001b[0m \u001b[0mmodel\u001b[0m\u001b[0;34m.\u001b[0m\u001b[0mcuda\u001b[0m\u001b[0;34m(\u001b[0m\u001b[0;34m)\u001b[0m\u001b[0;34m\u001b[0m\u001b[0;34m\u001b[0m\u001b[0m\n\u001b[0m\u001b[1;32m      2\u001b[0m \u001b[0mmodel\u001b[0m\u001b[0;34m.\u001b[0m\u001b[0mtrain\u001b[0m\u001b[0;34m(\u001b[0m\u001b[0;34m)\u001b[0m\u001b[0;34m\u001b[0m\u001b[0;34m\u001b[0m\u001b[0m\n\u001b[1;32m      3\u001b[0m \u001b[0mprint_every\u001b[0m\u001b[0;34m=\u001b[0m\u001b[0;36m10\u001b[0m\u001b[0;34m\u001b[0m\u001b[0;34m\u001b[0m\u001b[0m\n\u001b[1;32m      4\u001b[0m \u001b[0mstart\u001b[0m \u001b[0;34m=\u001b[0m \u001b[0mtime\u001b[0m\u001b[0;34m.\u001b[0m\u001b[0mtime\u001b[0m\u001b[0;34m(\u001b[0m\u001b[0;34m)\u001b[0m\u001b[0;34m\u001b[0m\u001b[0;34m\u001b[0m\u001b[0m\n\u001b[1;32m      5\u001b[0m \u001b[0mtemp\u001b[0m \u001b[0;34m=\u001b[0m \u001b[0mstart\u001b[0m\u001b[0;34m\u001b[0m\u001b[0;34m\u001b[0m\u001b[0m\n",
      "\u001b[0;32m~/Dev/DL_Assignment_3/trans_venv/lib/python3.8/site-packages/torch/nn/modules/module.py\u001b[0m in \u001b[0;36mcuda\u001b[0;34m(self, device)\u001b[0m\n\u001b[1;32m    461\u001b[0m             \u001b[0mModule\u001b[0m\u001b[0;34m:\u001b[0m \u001b[0mself\u001b[0m\u001b[0;34m\u001b[0m\u001b[0;34m\u001b[0m\u001b[0m\n\u001b[1;32m    462\u001b[0m         \"\"\"\n\u001b[0;32m--> 463\u001b[0;31m         \u001b[0;32mreturn\u001b[0m \u001b[0mself\u001b[0m\u001b[0;34m.\u001b[0m\u001b[0m_apply\u001b[0m\u001b[0;34m(\u001b[0m\u001b[0;32mlambda\u001b[0m \u001b[0mt\u001b[0m\u001b[0;34m:\u001b[0m \u001b[0mt\u001b[0m\u001b[0;34m.\u001b[0m\u001b[0mcuda\u001b[0m\u001b[0;34m(\u001b[0m\u001b[0mdevice\u001b[0m\u001b[0;34m)\u001b[0m\u001b[0;34m)\u001b[0m\u001b[0;34m\u001b[0m\u001b[0;34m\u001b[0m\u001b[0m\n\u001b[0m\u001b[1;32m    464\u001b[0m \u001b[0;34m\u001b[0m\u001b[0m\n\u001b[1;32m    465\u001b[0m     \u001b[0;32mdef\u001b[0m \u001b[0mcpu\u001b[0m\u001b[0;34m(\u001b[0m\u001b[0mself\u001b[0m\u001b[0;34m:\u001b[0m \u001b[0mT\u001b[0m\u001b[0;34m)\u001b[0m \u001b[0;34m->\u001b[0m \u001b[0mT\u001b[0m\u001b[0;34m:\u001b[0m\u001b[0;34m\u001b[0m\u001b[0;34m\u001b[0m\u001b[0m\n",
      "\u001b[0;32m~/Dev/DL_Assignment_3/trans_venv/lib/python3.8/site-packages/torch/nn/modules/module.py\u001b[0m in \u001b[0;36m_apply\u001b[0;34m(self, fn)\u001b[0m\n\u001b[1;32m    357\u001b[0m     \u001b[0;32mdef\u001b[0m \u001b[0m_apply\u001b[0m\u001b[0;34m(\u001b[0m\u001b[0mself\u001b[0m\u001b[0;34m,\u001b[0m \u001b[0mfn\u001b[0m\u001b[0;34m)\u001b[0m\u001b[0;34m:\u001b[0m\u001b[0;34m\u001b[0m\u001b[0;34m\u001b[0m\u001b[0m\n\u001b[1;32m    358\u001b[0m         \u001b[0;32mfor\u001b[0m \u001b[0mmodule\u001b[0m \u001b[0;32min\u001b[0m \u001b[0mself\u001b[0m\u001b[0;34m.\u001b[0m\u001b[0mchildren\u001b[0m\u001b[0;34m(\u001b[0m\u001b[0;34m)\u001b[0m\u001b[0;34m:\u001b[0m\u001b[0;34m\u001b[0m\u001b[0;34m\u001b[0m\u001b[0m\n\u001b[0;32m--> 359\u001b[0;31m             \u001b[0mmodule\u001b[0m\u001b[0;34m.\u001b[0m\u001b[0m_apply\u001b[0m\u001b[0;34m(\u001b[0m\u001b[0mfn\u001b[0m\u001b[0;34m)\u001b[0m\u001b[0;34m\u001b[0m\u001b[0;34m\u001b[0m\u001b[0m\n\u001b[0m\u001b[1;32m    360\u001b[0m \u001b[0;34m\u001b[0m\u001b[0m\n\u001b[1;32m    361\u001b[0m         \u001b[0;32mdef\u001b[0m \u001b[0mcompute_should_use_set_data\u001b[0m\u001b[0;34m(\u001b[0m\u001b[0mtensor\u001b[0m\u001b[0;34m,\u001b[0m \u001b[0mtensor_applied\u001b[0m\u001b[0;34m)\u001b[0m\u001b[0;34m:\u001b[0m\u001b[0;34m\u001b[0m\u001b[0;34m\u001b[0m\u001b[0m\n",
      "\u001b[0;32m~/Dev/DL_Assignment_3/trans_venv/lib/python3.8/site-packages/torch/nn/modules/module.py\u001b[0m in \u001b[0;36m_apply\u001b[0;34m(self, fn)\u001b[0m\n\u001b[1;32m    379\u001b[0m                 \u001b[0;31m# `with torch.no_grad():`\u001b[0m\u001b[0;34m\u001b[0m\u001b[0;34m\u001b[0m\u001b[0;34m\u001b[0m\u001b[0m\n\u001b[1;32m    380\u001b[0m                 \u001b[0;32mwith\u001b[0m \u001b[0mtorch\u001b[0m\u001b[0;34m.\u001b[0m\u001b[0mno_grad\u001b[0m\u001b[0;34m(\u001b[0m\u001b[0;34m)\u001b[0m\u001b[0;34m:\u001b[0m\u001b[0;34m\u001b[0m\u001b[0;34m\u001b[0m\u001b[0m\n\u001b[0;32m--> 381\u001b[0;31m                     \u001b[0mparam_applied\u001b[0m \u001b[0;34m=\u001b[0m \u001b[0mfn\u001b[0m\u001b[0;34m(\u001b[0m\u001b[0mparam\u001b[0m\u001b[0;34m)\u001b[0m\u001b[0;34m\u001b[0m\u001b[0;34m\u001b[0m\u001b[0m\n\u001b[0m\u001b[1;32m    382\u001b[0m                 \u001b[0mshould_use_set_data\u001b[0m \u001b[0;34m=\u001b[0m \u001b[0mcompute_should_use_set_data\u001b[0m\u001b[0;34m(\u001b[0m\u001b[0mparam\u001b[0m\u001b[0;34m,\u001b[0m \u001b[0mparam_applied\u001b[0m\u001b[0;34m)\u001b[0m\u001b[0;34m\u001b[0m\u001b[0;34m\u001b[0m\u001b[0m\n\u001b[1;32m    383\u001b[0m                 \u001b[0;32mif\u001b[0m \u001b[0mshould_use_set_data\u001b[0m\u001b[0;34m:\u001b[0m\u001b[0;34m\u001b[0m\u001b[0;34m\u001b[0m\u001b[0m\n",
      "\u001b[0;32m~/Dev/DL_Assignment_3/trans_venv/lib/python3.8/site-packages/torch/nn/modules/module.py\u001b[0m in \u001b[0;36m<lambda>\u001b[0;34m(t)\u001b[0m\n\u001b[1;32m    461\u001b[0m             \u001b[0mModule\u001b[0m\u001b[0;34m:\u001b[0m \u001b[0mself\u001b[0m\u001b[0;34m\u001b[0m\u001b[0;34m\u001b[0m\u001b[0m\n\u001b[1;32m    462\u001b[0m         \"\"\"\n\u001b[0;32m--> 463\u001b[0;31m         \u001b[0;32mreturn\u001b[0m \u001b[0mself\u001b[0m\u001b[0;34m.\u001b[0m\u001b[0m_apply\u001b[0m\u001b[0;34m(\u001b[0m\u001b[0;32mlambda\u001b[0m \u001b[0mt\u001b[0m\u001b[0;34m:\u001b[0m \u001b[0mt\u001b[0m\u001b[0;34m.\u001b[0m\u001b[0mcuda\u001b[0m\u001b[0;34m(\u001b[0m\u001b[0mdevice\u001b[0m\u001b[0;34m)\u001b[0m\u001b[0;34m)\u001b[0m\u001b[0;34m\u001b[0m\u001b[0;34m\u001b[0m\u001b[0m\n\u001b[0m\u001b[1;32m    464\u001b[0m \u001b[0;34m\u001b[0m\u001b[0m\n\u001b[1;32m    465\u001b[0m     \u001b[0;32mdef\u001b[0m \u001b[0mcpu\u001b[0m\u001b[0;34m(\u001b[0m\u001b[0mself\u001b[0m\u001b[0;34m:\u001b[0m \u001b[0mT\u001b[0m\u001b[0;34m)\u001b[0m \u001b[0;34m->\u001b[0m \u001b[0mT\u001b[0m\u001b[0;34m:\u001b[0m\u001b[0;34m\u001b[0m\u001b[0;34m\u001b[0m\u001b[0m\n",
      "\u001b[0;31mRuntimeError\u001b[0m: CUDA out of memory. Tried to allocate 896.00 MiB (GPU 0; 3.95 GiB total capacity; 2.60 GiB already allocated; 505.31 MiB free; 2.61 GiB reserved in total by PyTorch)"
     ]
    }
   ],
   "source": [
    "model = model.cuda()\n",
    "model.train()\n",
    "print_every=10    \n",
    "start = time.time()\n",
    "temp = start\n",
    "    \n",
    "total_loss = 0\n",
    "for epoch in range(2):\n",
    "    for i, batch in enumerate(batched_train_ds.iterate()):\n",
    "        src, trg = batch\n",
    "        src = src.cuda()\n",
    "        trg = trg.cuda()\n",
    "\n",
    "        trg_input = trg[:, :-1]\n",
    "        targets = trg[:, 1:].contiguous().view(-1)\n",
    "\n",
    "        src_msk, trg_msk = create_masks(src, batched_train_ds.pad_idx(is_source=True),\n",
    "                                        trg_input, batched_train_ds.pad_idx(is_source=False))\n",
    "\n",
    "        preds = model(src, trg_input, src_msk, trg_msk)\n",
    "\n",
    "        optim.zero_grad()\n",
    "\n",
    "        loss = F.cross_entropy(preds.view(-1, preds.size(-1)), results, ignore_index=batched_train_ds.pad_idx(is_source=False))\n",
    "\n",
    "        loss.backward()\n",
    "        optim.step()\n",
    "\n",
    "        total_loss += loss.data[0]\n",
    "        if (i + 1) % print_every == 0:\n",
    "            loss_avg = total_loss / print_every\n",
    "            print(\"time = %dm, epoch %d, iter = %d, loss = %.3f, %ds per %d iters\" % ((time.time() - start) // 60,epoch + 1, i + 1, loss_avg, time.time() - temp,print_every))\n",
    "            total_loss = 0\n",
    "            temp = time.time()"
   ]
  },
  {
   "cell_type": "code",
   "execution_count": null,
   "id": "independent-illinois",
   "metadata": {},
   "outputs": [],
   "source": []
  },
  {
   "cell_type": "code",
   "execution_count": 23,
   "id": "christian-shelter",
   "metadata": {},
   "outputs": [],
   "source": [
    "from nltk.translate.bleu_score import sentence_bleu"
   ]
  },
  {
   "cell_type": "code",
   "execution_count": 32,
   "id": "modern-dealing",
   "metadata": {},
   "outputs": [
    {
     "name": "stdout",
     "output_type": "stream",
     "text": [
      "a\n"
     ]
    }
   ],
   "source": [
    "if torch.rand(1)[0] > 0:\n",
    "    print(\"a\")"
   ]
  },
  {
   "cell_type": "code",
   "execution_count": 19,
   "id": "pending-sword",
   "metadata": {},
   "outputs": [
    {
     "data": {
      "text/plain": [
       "'1.7.1'"
      ]
     },
     "execution_count": 19,
     "metadata": {},
     "output_type": "execute_result"
    }
   ],
   "source": [
    "torch.__version__"
   ]
  },
  {
   "cell_type": "code",
   "execution_count": 20,
   "id": "laughing-optics",
   "metadata": {},
   "outputs": [
    {
     "name": "stdout",
     "output_type": "stream",
     "text": [
      "Collecting torch\n",
      "  Downloading torch-1.8.0-cp38-cp38-manylinux1_x86_64.whl (735.5 MB)\n",
      "\u001b[K     |████████████████████████████████| 735.5 MB 38 kB/s  eta 0:00:01    |██▍                             | 56.0 MB 3.5 MB/s eta 0:03:12     |██████████████████▍             | 421.7 MB 4.2 MB/s eta 0:01:16     |█████████████████████▏          | 486.2 MB 4.5 MB/s eta 0:00:55     |█████████████████████▉          | 502.3 MB 4.5 MB/s eta 0:00:52     |███████████████████████▊        | 544.6 MB 4.6 MB/s eta 0:00:42     |██████████████████████████▎     | 604.2 MB 2.6 MB/s eta 0:00:51     |████████████████████████████▍   | 653.1 MB 2.1 MB/s eta 0:00:39\n",
      "\u001b[?25hRequirement already satisfied, skipping upgrade: typing-extensions in /home/genvekt/Dev/DL_Assignment_3/trans_venv/lib/python3.8/site-packages (from torch) (3.7.4.3)\n",
      "Requirement already satisfied, skipping upgrade: numpy in /home/genvekt/Dev/DL_Assignment_3/trans_venv/lib/python3.8/site-packages (from torch) (1.20.1)\n",
      "Installing collected packages: torch\n",
      "  Attempting uninstall: torch\n",
      "    Found existing installation: torch 1.7.1\n",
      "    Uninstalling torch-1.7.1:\n",
      "      Successfully uninstalled torch-1.7.1\n",
      "Successfully installed torch-1.8.0\n"
     ]
    }
   ],
   "source": [
    "!pip install torch --upgrade"
   ]
  },
  {
   "cell_type": "code",
   "execution_count": 1,
   "id": "lasting-finance",
   "metadata": {},
   "outputs": [
    {
     "name": "stdout",
     "output_type": "stream",
     "text": [
      "On branch master\r\n",
      "\r\n",
      "No commits yet\r\n",
      "\r\n",
      "Untracked files:\r\n",
      "  (use \"git add <file>...\" to include in what will be committed)\r\n",
      "\t\u001b[31m../__pycache__/\u001b[m\r\n",
      "\t\u001b[31m../data/\u001b[m\r\n",
      "\t\u001b[31m../data_loaders/\u001b[m\r\n",
      "\t\u001b[31m./\u001b[m\r\n",
      "\t\u001b[31m../utils.py\u001b[m\r\n",
      "\r\n",
      "nothing added to commit but untracked files present (use \"git add\" to track)\r\n"
     ]
    }
   ],
   "source": [
    "!git status"
   ]
  },
  {
   "cell_type": "code",
   "execution_count": 2,
   "id": "central-episode",
   "metadata": {},
   "outputs": [],
   "source": [
    "!git add ../data_loaders/"
   ]
  },
  {
   "cell_type": "code",
   "execution_count": 3,
   "id": "tropical-advertiser",
   "metadata": {},
   "outputs": [],
   "source": [
    "!git add ../utils.py"
   ]
  },
  {
   "cell_type": "code",
   "execution_count": 4,
   "id": "loaded-drawing",
   "metadata": {},
   "outputs": [
    {
     "name": "stdout",
     "output_type": "stream",
     "text": [
      "On branch master\r\n",
      "\r\n",
      "No commits yet\r\n",
      "\r\n",
      "Changes to be committed:\r\n",
      "  (use \"git rm --cached <file>...\" to unstage)\r\n",
      "\t\u001b[32mnew file:   ../data_loaders/__pycache__/dataset.cpython-38.pyc\u001b[m\r\n",
      "\t\u001b[32mnew file:   ../data_loaders/__pycache__/vocabulary.cpython-38.pyc\u001b[m\r\n",
      "\t\u001b[32mnew file:   ../data_loaders/dataset.py\u001b[m\r\n",
      "\t\u001b[32mnew file:   ../data_loaders/vocabulary.py\u001b[m\r\n",
      "\t\u001b[32mnew file:   ../utils.py\u001b[m\r\n",
      "\r\n",
      "Untracked files:\r\n",
      "  (use \"git add <file>...\" to include in what will be committed)\r\n",
      "\t\u001b[31m../__pycache__/\u001b[m\r\n",
      "\t\u001b[31m../data/\u001b[m\r\n",
      "\t\u001b[31m./\u001b[m\r\n",
      "\r\n"
     ]
    }
   ],
   "source": [
    "!git status"
   ]
  },
  {
   "cell_type": "code",
   "execution_count": null,
   "id": "stupid-consensus",
   "metadata": {},
   "outputs": [],
   "source": [
    "!git add .."
   ]
  }
 ],
 "metadata": {
  "kernelspec": {
   "display_name": "Python 3",
   "language": "python",
   "name": "python3"
  },
  "language_info": {
   "codemirror_mode": {
    "name": "ipython",
    "version": 3
   },
   "file_extension": ".py",
   "mimetype": "text/x-python",
   "name": "python",
   "nbconvert_exporter": "python",
   "pygments_lexer": "ipython3",
   "version": "3.8.5"
  }
 },
 "nbformat": 4,
 "nbformat_minor": 5
}
